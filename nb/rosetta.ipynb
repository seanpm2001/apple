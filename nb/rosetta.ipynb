{
 "cells": [
  {
   "cell_type": "code",
   "execution_count": 1,
   "id": "2f9cc660",
   "metadata": {},
   "outputs": [],
   "source": [
    "import numpy as np"
   ]
  },
  {
   "cell_type": "code",
   "execution_count": 2,
   "id": "95cd8436",
   "metadata": {},
   "outputs": [],
   "source": [
    "from numpy.lib.stride_tricks import sliding_window_view"
   ]
  },
  {
   "cell_type": "code",
   "execution_count": 3,
   "id": "cca6ef38",
   "metadata": {},
   "outputs": [
    {
     "name": "stdout",
     "output_type": "stream",
     "text": [
      "58.2 μs ± 306 ns per loop (mean ± std. dev. of 7 runs, 10,000 loops each)\n"
     ]
    }
   ],
   "source": [
    "%timeit np.average(sliding_window_view(np.arange(0,1000,dtype=np.float64),7),axis=1)"
   ]
  },
  {
   "cell_type": "code",
   "execution_count": 4,
   "id": "81858231",
   "metadata": {},
   "outputs": [],
   "source": [
    "import apple"
   ]
  },
  {
   "cell_type": "code",
   "execution_count": 5,
   "id": "f98046ca",
   "metadata": {},
   "outputs": [],
   "source": [
    "sliding_mean=apple.jit('([((+)/x)%(ℝ(:x))]\\\\`7)')"
   ]
  },
  {
   "cell_type": "code",
   "execution_count": 6,
   "id": "4f3bbd80",
   "metadata": {},
   "outputs": [
    {
     "name": "stdout",
     "output_type": "stream",
     "text": [
      "12.3 μs ± 84.2 ns per loop (mean ± std. dev. of 7 runs, 100,000 loops each)\n"
     ]
    }
   ],
   "source": [
    "%timeit apple.f(sliding_mean,np.arange(0,1000,dtype=np.float64))"
   ]
  },
  {
   "cell_type": "code",
   "execution_count": 7,
   "id": "f2a33f17",
   "metadata": {},
   "outputs": [
    {
     "name": "stdout",
     "output_type": "stream",
     "text": [
      "\n",
      "    sub rsp, 8\n",
      "    mov rsi, rdi\n",
      "    mov r8, [rsi+8]\n",
      "    sub r8, 6\n",
      "    mov rdi, r8\n",
      "    sal rdi, 3\n",
      "    add rdi, 16\n",
      "    push r10\n",
      "    push rsi\n",
      "    push rdx\n",
      "    push rcx\n",
      "    push r8\n",
      "    sub rsp, 8\n",
      "    sub rsp, 8\n",
      "    movq [rsp], xmm0\n",
      "    sub rsp, 8\n",
      "    movq [rsp], xmm1\n",
      "    sub rsp, 8\n",
      "    movq [rsp], xmm2\n",
      "    sub rsp, 8\n",
      "    movq [rsp], xmm3\n",
      "    call malloc wrt ..plt\n",
      "    movq xmm3, [rsp]\n",
      "    add rsp, 8\n",
      "    movq xmm2, [rsp]\n",
      "    add rsp, 8\n",
      "    movq xmm1, [rsp]\n",
      "    add rsp, 8\n",
      "    movq xmm0, [rsp]\n",
      "    add rsp, 8\n",
      "    add rsp, 8\n",
      "    pop r8\n",
      "    pop rcx\n",
      "    pop rdx\n",
      "    pop rsi\n",
      "    pop r10\n",
      "    mov qword [rax], 1\n",
      "    mov [rax+8], r8\n",
      "    sub rsp, 80\n",
      "    mov qword [rsp], 1\n",
      "    mov rcx, 7\n",
      "    mov [rsp+8], rcx\n",
      "    xor r10, r10\n",
      "    cmp r10, r8\n",
      "    jge apple_1\n",
      "apple_0:\n",
      "    mov rcx, r10\n",
      "    sal rcx, 3\n",
      "    add rcx, 16\n",
      "    mov rdx, rsi\n",
      "    add rdx, rcx\n",
      "    mov rdi, 0\n",
      "    cmp rdi, 6\n",
      "    jg apple_5\n",
      "apple_4:\n",
      "    mov rcx, [rdx+8*rdi]\n",
      "    mov [rsp+8*rdi+16], rcx\n",
      "    add rdi, 1\n",
      "    cmp rdi, 6\n",
      "    jle apple_4\n",
      "apple_5:\n",
      "    mov rdi, rsp\n",
      "    mov rdx, [rdi+8]\n",
      "    movq xmm3, [rdi+16]\n",
      "    mov rcx, 1\n",
      "    cmp rcx, rdx\n",
      "    jge apple_3\n",
      "apple_2:\n",
      "    movq xmm2, [rdi+8*rcx+16]\n",
      "    addsd xmm3, xmm2\n",
      "    add rcx, 1\n",
      "    cmp rcx, rdx\n",
      "    jl apple_2\n",
      "apple_3:\n",
      "    mov rcx, 4594314991293244562\n",
      "    movq xmm2, rcx\n",
      "    vmulsd xmm2, xmm3, xmm2\n",
      "    movq [rax+8*r10+16], xmm2\n",
      "    add r10, 1\n",
      "    cmp r10, r8\n",
      "    jl apple_0\n",
      "apple_1:\n",
      "    add rsp, 80\n",
      "    add rsp, 8\n",
      "    ret\n"
     ]
    }
   ],
   "source": [
    "print(apple.asm('([((+)/x)%(ℝ(:x))]\\\\`7)'))"
   ]
  },
  {
   "cell_type": "code",
   "execution_count": null,
   "id": "2115acc9",
   "metadata": {},
   "outputs": [],
   "source": [
    "import bqn"
   ]
  },
  {
   "cell_type": "code",
   "execution_count": null,
   "id": "eaea5e4d",
   "metadata": {},
   "outputs": [],
   "source": [
    "%timeit bqn.bqn('{(+´÷≠)˘7↕𝕩}',np.arange(0,1000,dtype=np.float64))"
   ]
  }
 ],
 "metadata": {
  "kernelspec": {
   "display_name": "Python 3 (ipykernel)",
   "language": "python",
   "name": "python3"
  },
  "language_info": {
   "codemirror_mode": {
    "name": "ipython",
    "version": 3
   },
   "file_extension": ".py",
   "mimetype": "text/x-python",
   "name": "python",
   "nbconvert_exporter": "python",
   "pygments_lexer": "ipython3",
   "version": "3.12.4"
  }
 },
 "nbformat": 4,
 "nbformat_minor": 5
}

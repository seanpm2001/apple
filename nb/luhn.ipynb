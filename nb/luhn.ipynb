{
 "cells": [
  {
   "cell_type": "code",
   "execution_count": 1,
   "id": "5c79ab6f",
   "metadata": {},
   "outputs": [],
   "source": [
    "import numpy as np"
   ]
  },
  {
   "cell_type": "code",
   "execution_count": 2,
   "id": "093cf570",
   "metadata": {},
   "outputs": [],
   "source": [
    "cc=np.array([4,0,1,2,8,8,8,8,8,8,8,8,1,8,8,1],dtype=np.int64)"
   ]
  },
  {
   "cell_type": "code",
   "execution_count": 3,
   "id": "c79264d1",
   "metadata": {},
   "outputs": [],
   "source": [
    "# https://x.com/cneuralnetwork/status/1831994612426387833\n",
    "def luhn_numpy(n):\n",
    "    def digit_sum(n):\n",
    "        if n>0:\n",
    "            n-9\n",
    "        else:\n",
    "            n\n",
    "    odd_digits = n[-1::-2]\n",
    "    even_digits = n[-2::-2]\n",
    "    checksum = 0\n",
    "    checksum += np.sum(odd_digits)\n",
    "    for d in even_digits:\n",
    "        checksum += sum(digit_sum(d*2))\n",
    "    return checksum % 10"
   ]
  },
  {
   "cell_type": "code",
   "execution_count": 4,
   "id": "d113e711",
   "metadata": {},
   "outputs": [
    {
     "ename": "TypeError",
     "evalue": "'NoneType' object is not iterable",
     "output_type": "error",
     "traceback": [
      "\u001b[0;31m---------------------------------------------------------------------------\u001b[0m",
      "\u001b[0;31mTypeError\u001b[0m                                 Traceback (most recent call last)",
      "Cell \u001b[0;32mIn[4], line 1\u001b[0m\n\u001b[0;32m----> 1\u001b[0m \u001b[43mluhn_numpy\u001b[49m\u001b[43m(\u001b[49m\u001b[43mcc\u001b[49m\u001b[43m)\u001b[49m\n",
      "Cell \u001b[0;32mIn[3], line 13\u001b[0m, in \u001b[0;36mluhn_numpy\u001b[0;34m(n)\u001b[0m\n\u001b[1;32m     11\u001b[0m checksum \u001b[38;5;241m+\u001b[39m\u001b[38;5;241m=\u001b[39m np\u001b[38;5;241m.\u001b[39msum(odd_digits)\n\u001b[1;32m     12\u001b[0m \u001b[38;5;28;01mfor\u001b[39;00m d \u001b[38;5;129;01min\u001b[39;00m even_digits:\n\u001b[0;32m---> 13\u001b[0m     checksum \u001b[38;5;241m+\u001b[39m\u001b[38;5;241m=\u001b[39m \u001b[38;5;28;43msum\u001b[39;49m\u001b[43m(\u001b[49m\u001b[43mdigit_sum\u001b[49m\u001b[43m(\u001b[49m\u001b[43md\u001b[49m\u001b[38;5;241;43m*\u001b[39;49m\u001b[38;5;241;43m2\u001b[39;49m\u001b[43m)\u001b[49m\u001b[43m)\u001b[49m\n\u001b[1;32m     14\u001b[0m \u001b[38;5;28;01mreturn\u001b[39;00m checksum \u001b[38;5;241m%\u001b[39m \u001b[38;5;241m10\u001b[39m\n",
      "\u001b[0;31mTypeError\u001b[0m: 'NoneType' object is not iterable"
     ]
    }
   ],
   "source": [
    "luhn_numpy(cc)"
   ]
  },
  {
   "cell_type": "code",
   "execution_count": null,
   "id": "f7b52f0f",
   "metadata": {},
   "outputs": [],
   "source": [
    "import apple"
   ]
  },
  {
   "cell_type": "code",
   "execution_count": null,
   "id": "b70929db",
   "metadata": {},
   "outputs": [],
   "source": [
    "luhn=apple.jit('''\n",
    "λxs.\n",
    "  { digitSum ← [?x>10,.x-9,.x]\n",
    "  ; t ← (+)/ [digitSum (x*y)]`xs (cyc. ⟨2,1::int⟩ 8)\n",
    "  ; t|10\n",
    "  }\n",
    "''')"
   ]
  },
  {
   "cell_type": "code",
   "execution_count": null,
   "id": "19c77f27",
   "metadata": {},
   "outputs": [],
   "source": [
    "apple.f(luhn,cc)"
   ]
  },
  {
   "cell_type": "code",
   "execution_count": null,
   "id": "d97b225e",
   "metadata": {},
   "outputs": [],
   "source": [
    "%timeit luhn_numpy(cc)"
   ]
  },
  {
   "cell_type": "code",
   "execution_count": null,
   "id": "b179f9b6",
   "metadata": {},
   "outputs": [],
   "source": [
    "%timeit apple.f(luhn,cc)"
   ]
  }
 ],
 "metadata": {
  "kernelspec": {
   "display_name": "Python3.12",
   "language": "python",
   "name": "python312"
  },
  "language_info": {
   "codemirror_mode": {
    "name": "ipython",
    "version": 3
   },
   "file_extension": ".py",
   "mimetype": "text/x-python",
   "name": "python",
   "nbconvert_exporter": "python",
   "pygments_lexer": "ipython3",
   "version": "3.12.6"
  }
 },
 "nbformat": 4,
 "nbformat_minor": 5
}

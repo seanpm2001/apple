{
 "cells": [
  {
   "cell_type": "code",
   "execution_count": 1,
   "id": "5c79ab6f",
   "metadata": {},
   "outputs": [],
   "source": [
    "import numpy as np"
   ]
  },
  {
   "cell_type": "code",
   "execution_count": 2,
   "id": "093cf570",
   "metadata": {},
   "outputs": [],
   "source": [
    "cc=np.array([4,0,1,2,8,8,8,8,8,8,8,8,1,8,8,1],dtype=np.int64)"
   ]
  },
  {
   "cell_type": "code",
   "execution_count": 3,
   "id": "c79264d1",
   "metadata": {},
   "outputs": [],
   "source": [
    "# https://x.com/cneuralnetwork/status/1831994612426387833\n",
    "def luhn_numpy(n):\n",
    "    def digits_of(n): \n",
    "        return [int(d) for d in str(n)] \n",
    "    odd_digits = n[-1::-2]\n",
    "    even_digits = n[-2::-2]\n",
    "    checksum = 0\n",
    "    checksum += np.sum(odd_digits)\n",
    "    for d in even_digits:\n",
    "        checksum += sum(digits_of(d*2))\n",
    "    return checksum % 10"
   ]
  },
  {
   "cell_type": "code",
   "execution_count": 4,
   "id": "3e31362d",
   "metadata": {},
   "outputs": [],
   "source": [
    "def luhn_equiv(n):\n",
    "    def digit_sum(n):\n",
    "        if n>10:\n",
    "            return n-9\n",
    "        else:\n",
    "            return n\n",
    "    odd_digits = n[-1::-2]\n",
    "    even_digits = n[-2::-2]\n",
    "    checksum = 0\n",
    "    checksum += np.sum(odd_digits)\n",
    "    for d in even_digits:\n",
    "        checksum += digit_sum(d*2)\n",
    "    return checksum % 10"
   ]
  },
  {
   "cell_type": "code",
   "execution_count": 5,
   "id": "d113e711",
   "metadata": {},
   "outputs": [
    {
     "data": {
      "text/plain": [
       "np.int64(0)"
      ]
     },
     "execution_count": 5,
     "metadata": {},
     "output_type": "execute_result"
    }
   ],
   "source": [
    "luhn_numpy(cc)"
   ]
  },
  {
   "cell_type": "code",
   "execution_count": 6,
   "id": "b0f49532",
   "metadata": {},
   "outputs": [
    {
     "data": {
      "text/plain": [
       "np.int64(0)"
      ]
     },
     "execution_count": 6,
     "metadata": {},
     "output_type": "execute_result"
    }
   ],
   "source": [
    "luhn_equiv(cc)"
   ]
  },
  {
   "cell_type": "code",
   "execution_count": 7,
   "id": "f7b52f0f",
   "metadata": {},
   "outputs": [],
   "source": [
    "import apple"
   ]
  },
  {
   "cell_type": "code",
   "execution_count": 8,
   "id": "b70929db",
   "metadata": {},
   "outputs": [],
   "source": [
    "luhn=apple.jit('''\n",
    "λxs.\n",
    "  { digitSum ← [?x>10,.x-9,.x]\n",
    "  ; t ← (+)/ [digitSum (x*y)]`xs (cyc. ⟨2,1::int⟩ 8)\n",
    "  ; t|10\n",
    "  }\n",
    "''')"
   ]
  },
  {
   "cell_type": "code",
   "execution_count": 9,
   "id": "19c77f27",
   "metadata": {},
   "outputs": [
    {
     "data": {
      "text/plain": [
       "0"
      ]
     },
     "execution_count": 9,
     "metadata": {},
     "output_type": "execute_result"
    }
   ],
   "source": [
    "apple.f(luhn,cc)"
   ]
  },
  {
   "cell_type": "code",
   "execution_count": 10,
   "id": "d97b225e",
   "metadata": {},
   "outputs": [
    {
     "name": "stdout",
     "output_type": "stream",
     "text": [
      "5.14 µs ± 36.7 ns per loop (mean ± std. dev. of 7 runs, 100,000 loops each)\n"
     ]
    }
   ],
   "source": [
    "%timeit luhn_numpy(cc)"
   ]
  },
  {
   "cell_type": "code",
   "execution_count": 11,
   "id": "ec486e9e",
   "metadata": {},
   "outputs": [
    {
     "name": "stdout",
     "output_type": "stream",
     "text": [
      "3.15 µs ± 16.4 ns per loop (mean ± std. dev. of 7 runs, 100,000 loops each)\n"
     ]
    }
   ],
   "source": [
    "%timeit luhn_equiv(cc)"
   ]
  },
  {
   "cell_type": "code",
   "execution_count": 12,
   "id": "b179f9b6",
   "metadata": {},
   "outputs": [
    {
     "name": "stdout",
     "output_type": "stream",
     "text": [
      "289 ns ± 60.6 ns per loop (mean ± std. dev. of 7 runs, 10,000,000 loops each)\n"
     ]
    }
   ],
   "source": [
    "%timeit apple.f(luhn,cc)"
   ]
  }
 ],
 "metadata": {
  "kernelspec": {
   "display_name": "Python3.12",
   "language": "python",
   "name": "python312"
  },
  "language_info": {
   "codemirror_mode": {
    "name": "ipython",
    "version": 3
   },
   "file_extension": ".py",
   "mimetype": "text/x-python",
   "name": "python",
   "nbconvert_exporter": "python",
   "pygments_lexer": "ipython3",
   "version": "3.12.6"
  }
 },
 "nbformat": 4,
 "nbformat_minor": 5
}

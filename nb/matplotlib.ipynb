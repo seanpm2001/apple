{
 "cells": [
  {
   "cell_type": "code",
   "execution_count": 1,
   "id": "e6721b00",
   "metadata": {},
   "outputs": [],
   "source": [
    "import apple"
   ]
  },
  {
   "cell_type": "code",
   "execution_count": 2,
   "id": "13b657af",
   "metadata": {},
   "outputs": [],
   "source": [
    "bessel_str='''\n",
    "λ𝛼.λx.\n",
    "  { fact ← [(*)/ₒ 1 (⍳ 1 x 1)]\n",
    "  ; f10 ← λa.λx.\n",
    "    { rf ← [(*)/ₒ 1 (frange x (x+y-1) (⌊y))]; ffact ← rf 1\n",
    "    ; mkIx ← λk. {kk⟜ℝ k; (x^k%(rf a kk))%ffact kk}\n",
    "    ; (+)/(mkIx'(⍳ 0 30 1))\n",
    "    }\n",
    "  ; ((x%2)^𝛼%ℝ(fact 𝛼))*f10 (ℝ(𝛼+1)) (_((x^2)%4))\n",
    "  }\n",
    "'''"
   ]
  },
  {
   "cell_type": "code",
   "execution_count": 3,
   "id": "290f4eca",
   "metadata": {},
   "outputs": [],
   "source": [
    "bessel_f=apple.cache(bessel_str)"
   ]
  },
  {
   "cell_type": "code",
   "execution_count": 4,
   "id": "bcd9f6ff",
   "metadata": {},
   "outputs": [],
   "source": [
    "def bessel1(a,x):\n",
    "    return apple.f(bessel_f,a,x)"
   ]
  },
  {
   "cell_type": "code",
   "execution_count": 5,
   "id": "239e49b9",
   "metadata": {},
   "outputs": [],
   "source": [
    "import numpy as np"
   ]
  },
  {
   "cell_type": "code",
   "execution_count": 6,
   "id": "5a1006fe",
   "metadata": {},
   "outputs": [],
   "source": [
    "xs=np.arange(0,20,0.1,dtype=np.float64)"
   ]
  },
  {
   "cell_type": "code",
   "execution_count": null,
   "id": "ad48dc66",
   "metadata": {},
   "outputs": [],
   "source": [
    "ys=np.array([bessel1(1,x) for x in xs])"
   ]
  },
  {
   "cell_type": "code",
   "execution_count": null,
   "id": "096dce18",
   "metadata": {},
   "outputs": [],
   "source": [
    "import matplotlib.pyplot as plt"
   ]
  },
  {
   "cell_type": "code",
   "execution_count": null,
   "id": "a8e65bb2",
   "metadata": {},
   "outputs": [],
   "source": [
    "plt.plot(ys)"
   ]
  },
  {
   "cell_type": "code",
   "execution_count": null,
   "id": "c4f0c160",
   "metadata": {},
   "outputs": [],
   "source": []
  }
 ],
 "metadata": {
  "kernelspec": {
   "display_name": "Python 3 (ipykernel)",
   "language": "python",
   "name": "python3"
  },
  "language_info": {
   "codemirror_mode": {
    "name": "ipython",
    "version": 3
   },
   "file_extension": ".py",
   "mimetype": "text/x-python",
   "name": "python",
   "nbconvert_exporter": "python",
   "pygments_lexer": "ipython3",
   "version": "3.12.0"
  }
 },
 "nbformat": 4,
 "nbformat_minor": 5
}

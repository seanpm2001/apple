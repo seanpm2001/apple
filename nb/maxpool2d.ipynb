{
 "cells": [
  {
   "cell_type": "code",
   "execution_count": 1,
   "id": "4b12f353-12cb-45de-beeb-2477e064cffb",
   "metadata": {},
   "outputs": [],
   "source": [
    "import numpy as np"
   ]
  },
  {
   "cell_type": "code",
   "execution_count": 2,
   "id": "f98be877-e63b-4d80-8a0e-fafe9cbb8c65",
   "metadata": {},
   "outputs": [],
   "source": [
    "from numpy.lib.stride_tricks import as_strided"
   ]
  },
  {
   "cell_type": "code",
   "execution_count": 3,
   "id": "1be8d9c0-e109-469b-840b-bf6c443923e1",
   "metadata": {},
   "outputs": [],
   "source": [
    "A = np.array([[20.0,200,-5,23],[-13,134,119,100],[120,32,49,25],[-120,12,9,23]])"
   ]
  },
  {
   "cell_type": "code",
   "execution_count": 28,
   "id": "106094e5-235c-44b3-a275-c392dc417498",
   "metadata": {},
   "outputs": [],
   "source": [
    "# https://stackoverflow.com/a/74939121/11296354\n",
    "def maxpool2d_numpy(X,kd1,kd2,s1,s2):\n",
    "    d1,d2=X.shape\n",
    "    out_d1=(d1-kd1)//s1+1\n",
    "    out_d2=(d2-kd2)//s2+1\n",
    "    return np.max(as_strided(X,shape=(out_d1,out_d2,kd1,kd2),strides=tuple(i*X.itemsize for i in (s1*d1,s2,d2,1))),axis=(2,3))"
   ]
  },
  {
   "cell_type": "code",
   "execution_count": 29,
   "id": "dc29c4d3-5cd4-45da-b470-8636fbe414dc",
   "metadata": {},
   "outputs": [
    {
     "data": {
      "text/plain": [
       "array([[200., 119.],\n",
       "       [120.,  49.]])"
      ]
     },
     "execution_count": 29,
     "metadata": {},
     "output_type": "execute_result"
    }
   ],
   "source": [
    "maxpool2d_numpy(A,2,2,2,2)"
   ]
  },
  {
   "cell_type": "code",
   "execution_count": 31,
   "id": "93095f0e-1240-4e24-ab2d-2cf377c53529",
   "metadata": {},
   "outputs": [],
   "source": [
    "# https://stackoverflow.com/a/42463491/11296354\n",
    "from skimage.measure import block_reduce"
   ]
  },
  {
   "cell_type": "code",
   "execution_count": 6,
   "id": "77fe64d7-f22b-4b4f-a8b8-9296ca843e70",
   "metadata": {},
   "outputs": [
    {
     "data": {
      "text/plain": [
       "array([[200., 119.],\n",
       "       [120.,  49.]])"
      ]
     },
     "execution_count": 6,
     "metadata": {},
     "output_type": "execute_result"
    }
   ],
   "source": [
    "block_reduce(A,(2,2),np.max)"
   ]
  },
  {
   "cell_type": "code",
   "execution_count": 7,
   "id": "ba8116b1-779a-4619-883e-c6f973858345",
   "metadata": {},
   "outputs": [],
   "source": [
    "import apple"
   ]
  },
  {
   "cell_type": "code",
   "execution_count": 8,
   "id": "5778ef1f-8628-481e-9ab1-cc994df0a806",
   "metadata": {},
   "outputs": [],
   "source": [
    "maxpool2d=apple.jit(\"([(⋉)/* _1e100 (x::M float)] ⨳ {2∘2,2∘2})\")"
   ]
  },
  {
   "cell_type": "code",
   "execution_count": 9,
   "id": "b2be549c-787d-4039-9a88-6a542e2ec897",
   "metadata": {},
   "outputs": [
    {
     "data": {
      "text/plain": [
       "array([[200., 119.],\n",
       "       [120.,  49.]])"
      ]
     },
     "execution_count": 9,
     "metadata": {},
     "output_type": "execute_result"
    }
   ],
   "source": [
    "maxpool2d(A)"
   ]
  }
 ],
 "metadata": {
  "kernelspec": {
   "display_name": "Python3.12",
   "language": "python",
   "name": "python312"
  },
  "language_info": {
   "codemirror_mode": {
    "name": "ipython",
    "version": 3
   },
   "file_extension": ".py",
   "mimetype": "text/x-python",
   "name": "python",
   "nbconvert_exporter": "python",
   "pygments_lexer": "ipython3",
   "version": "3.12.7"
  }
 },
 "nbformat": 4,
 "nbformat_minor": 5
}

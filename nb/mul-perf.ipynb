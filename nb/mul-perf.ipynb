{
 "cells": [
  {
   "cell_type": "code",
   "execution_count": 1,
   "id": "155b5dab",
   "metadata": {},
   "outputs": [],
   "source": [
    "import numpy as np"
   ]
  },
  {
   "cell_type": "code",
   "execution_count": 2,
   "id": "c5efafa4",
   "metadata": {},
   "outputs": [],
   "source": [
    "bs=np.random.rand(1024,1024)"
   ]
  },
  {
   "cell_type": "code",
   "execution_count": 3,
   "id": "d18049e3",
   "metadata": {},
   "outputs": [
    {
     "name": "stdout",
     "output_type": "stream",
     "text": [
      "8.33 ms ± 272 μs per loop (mean ± std. dev. of 7 runs, 100 loops each)\n"
     ]
    }
   ],
   "source": [
    "%timeit bs@bs"
   ]
  },
  {
   "cell_type": "code",
   "execution_count": 4,
   "id": "452ea20d",
   "metadata": {},
   "outputs": [],
   "source": [
    "import apple"
   ]
  },
  {
   "cell_type": "code",
   "execution_count": 5,
   "id": "76e6d5c2",
   "metadata": {},
   "outputs": [],
   "source": [
    "mul=apple.jit(\"[(x::M ₁₀₂₄,₁₀₂₄ float)%.(y::M ₁₀₂₄,₁₀₂₄ float)]\")"
   ]
  },
  {
   "cell_type": "code",
   "execution_count": 6,
   "id": "c10c5619",
   "metadata": {},
   "outputs": [],
   "source": [
    "mulT=apple.jit(\"[(x::M ₁₀₂₄,₁₀₂₄ float)%.|:(y::M ₁₀₂₄,₁₀₂₄ float)]\")"
   ]
  },
  {
   "cell_type": "code",
   "execution_count": 7,
   "id": "113bba96",
   "metadata": {},
   "outputs": [
    {
     "data": {
      "text/plain": [
       "array([[252.26820045, 255.60129043, 258.00776936, ..., 250.60742662,\n",
       "        257.71309095, 253.09927798],\n",
       "       [250.23574432, 255.49080087, 260.87013084, ..., 251.16904578,\n",
       "        263.09863404, 258.26231113],\n",
       "       [253.76240442, 249.85262399, 250.15462469, ..., 248.4012046 ,\n",
       "        260.95583889, 251.55704508],\n",
       "       ...,\n",
       "       [253.48143879, 257.96624582, 264.39715517, ..., 262.04599744,\n",
       "        261.58959491, 264.01988062],\n",
       "       [255.04591598, 256.59343761, 261.38318428, ..., 254.51382203,\n",
       "        269.30672524, 260.65687114],\n",
       "       [264.91036855, 257.1797689 , 270.06335585, ..., 259.17753583,\n",
       "        267.31236189, 264.19735528]])"
      ]
     },
     "execution_count": 7,
     "metadata": {},
     "output_type": "execute_result"
    }
   ],
   "source": [
    "mul(bs,bs)"
   ]
  },
  {
   "cell_type": "code",
   "execution_count": 8,
   "id": "b1f1bfa5",
   "metadata": {},
   "outputs": [
    {
     "data": {
      "text/plain": [
       "array([[252.26820045, 255.60129043, 258.00776936, ..., 250.60742662,\n",
       "        257.71309095, 253.09927798],\n",
       "       [250.23574432, 255.49080087, 260.87013084, ..., 251.16904578,\n",
       "        263.09863404, 258.26231113],\n",
       "       [253.76240442, 249.85262399, 250.15462469, ..., 248.4012046 ,\n",
       "        260.95583889, 251.55704508],\n",
       "       ...,\n",
       "       [253.48143879, 257.96624582, 264.39715517, ..., 262.04599744,\n",
       "        261.58959491, 264.01988062],\n",
       "       [255.04591598, 256.59343761, 261.38318428, ..., 254.51382203,\n",
       "        269.30672524, 260.65687114],\n",
       "       [264.91036855, 257.1797689 , 270.06335585, ..., 259.17753583,\n",
       "        267.31236189, 264.19735528]])"
      ]
     },
     "execution_count": 8,
     "metadata": {},
     "output_type": "execute_result"
    }
   ],
   "source": [
    "bs@bs"
   ]
  },
  {
   "cell_type": "code",
   "execution_count": 9,
   "id": "d31b9bec",
   "metadata": {},
   "outputs": [
    {
     "data": {
      "text/plain": [
       "array([[342.82368465, 250.45846093, 254.04530759, ..., 259.44023679,\n",
       "        257.07829204, 260.18498253],\n",
       "       [250.45846093, 334.87064545, 253.20983946, ..., 257.50941673,\n",
       "        260.52209098, 261.38537765],\n",
       "       [254.04530759, 253.20983946, 337.35414138, ..., 257.48709845,\n",
       "        257.89255997, 258.16025463],\n",
       "       ...,\n",
       "       [259.44023679, 257.50941673, 257.48709845, ..., 351.06753364,\n",
       "        266.59457169, 266.86833622],\n",
       "       [257.07829204, 260.52209098, 257.89255997, ..., 266.59457169,\n",
       "        348.92959703, 266.12742877],\n",
       "       [260.18498253, 261.38537765, 258.16025463, ..., 266.86833622,\n",
       "        266.12742877, 352.61554708]])"
      ]
     },
     "execution_count": 9,
     "metadata": {},
     "output_type": "execute_result"
    }
   ],
   "source": [
    "bs@bs.T"
   ]
  },
  {
   "cell_type": "code",
   "execution_count": 10,
   "id": "263089c8",
   "metadata": {},
   "outputs": [
    {
     "data": {
      "text/plain": [
       "array([[342.82368465, 250.45846093, 254.04530759, ..., 259.44023679,\n",
       "        257.07829204, 260.18498253],\n",
       "       [250.45846093, 334.87064545, 253.20983946, ..., 257.50941673,\n",
       "        260.52209098, 261.38537765],\n",
       "       [254.04530759, 253.20983946, 337.35414138, ..., 257.48709845,\n",
       "        257.89255997, 258.16025463],\n",
       "       ...,\n",
       "       [259.44023679, 257.50941673, 257.48709845, ..., 351.06753364,\n",
       "        266.59457169, 266.86833622],\n",
       "       [257.07829204, 260.52209098, 257.89255997, ..., 266.59457169,\n",
       "        348.92959703, 266.12742877],\n",
       "       [260.18498253, 261.38537765, 258.16025463, ..., 266.86833622,\n",
       "        266.12742877, 352.61554708]])"
      ]
     },
     "execution_count": 10,
     "metadata": {},
     "output_type": "execute_result"
    }
   ],
   "source": [
    "mulT(bs,bs)"
   ]
  },
  {
   "cell_type": "code",
   "execution_count": 11,
   "id": "b29f961a",
   "metadata": {},
   "outputs": [
    {
     "name": "stdout",
     "output_type": "stream",
     "text": [
      "168 ms ± 1.31 ms per loop (mean ± std. dev. of 7 runs, 10 loops each)\n"
     ]
    }
   ],
   "source": [
    "%timeit mul(bs,bs)"
   ]
  },
  {
   "cell_type": "code",
   "execution_count": 12,
   "id": "7e3eb3fe",
   "metadata": {},
   "outputs": [
    {
     "name": "stdout",
     "output_type": "stream",
     "text": [
      "152 ms ± 467 μs per loop (mean ± std. dev. of 7 runs, 10 loops each)\n"
     ]
    }
   ],
   "source": [
    "%timeit mulT(bs,bs)"
   ]
  },
  {
   "cell_type": "code",
   "execution_count": 13,
   "id": "cc275305",
   "metadata": {},
   "outputs": [
    {
     "name": "stdout",
     "output_type": "stream",
     "text": [
      "8.9 ms ± 125 μs per loop (mean ± std. dev. of 7 runs, 100 loops each)\n"
     ]
    }
   ],
   "source": [
    "%timeit bs@bs.T"
   ]
  }
 ],
 "metadata": {
  "kernelspec": {
   "display_name": "Python 3 (ipykernel)",
   "language": "python",
   "name": "python3"
  },
  "language_info": {
   "codemirror_mode": {
    "name": "ipython",
    "version": 3
   },
   "file_extension": ".py",
   "mimetype": "text/x-python",
   "name": "python",
   "nbconvert_exporter": "python",
   "pygments_lexer": "ipython3",
   "version": "3.13.0"
  }
 },
 "nbformat": 4,
 "nbformat_minor": 5
}

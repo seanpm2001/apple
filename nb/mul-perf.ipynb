{
 "cells": [
  {
   "cell_type": "code",
   "execution_count": 1,
   "id": "155b5dab",
   "metadata": {},
   "outputs": [],
   "source": [
    "import numpy as np"
   ]
  },
  {
   "cell_type": "code",
   "execution_count": 2,
   "id": "c5efafa4",
   "metadata": {},
   "outputs": [],
   "source": [
    "bs=np.random.rand(1024,1024)"
   ]
  },
  {
   "cell_type": "code",
   "execution_count": 3,
   "id": "d18049e3",
   "metadata": {},
   "outputs": [
    {
     "name": "stdout",
     "output_type": "stream",
     "text": [
      "8.41 ms ± 109 μs per loop (mean ± std. dev. of 7 runs, 100 loops each)\n"
     ]
    }
   ],
   "source": [
    "%timeit bs@bs"
   ]
  },
  {
   "cell_type": "code",
   "execution_count": 4,
   "id": "452ea20d",
   "metadata": {},
   "outputs": [],
   "source": [
    "import apple"
   ]
  },
  {
   "cell_type": "code",
   "execution_count": 5,
   "id": "76e6d5c2",
   "metadata": {},
   "outputs": [],
   "source": [
    "mul=apple.jit(\"[(x::M ₁₀₂₄,₁₀₂₄ float)%.(y::M ₁₀₂₄,₁₀₂₄ float)]\")"
   ]
  },
  {
   "cell_type": "code",
   "execution_count": 6,
   "id": "c10c5619",
   "metadata": {},
   "outputs": [],
   "source": [
    "mulT=apple.jit(\"[(x::M ₁₀₂₄,₁₀₂₄ float)%.|:(y::M ₁₀₂₄,₁₀₂₄ float)]\")"
   ]
  },
  {
   "cell_type": "code",
   "execution_count": 7,
   "id": "113bba96",
   "metadata": {},
   "outputs": [
    {
     "data": {
      "text/plain": [
       "array([[257.26030546, 249.83078482, 255.56100649, ..., 246.20256677,\n",
       "        263.22037797, 262.79265545],\n",
       "       [267.39701946, 264.21177235, 254.85459247, ..., 260.87955432,\n",
       "        276.2058817 , 268.21432766],\n",
       "       [247.16382253, 239.33191272, 249.11109189, ..., 244.54275481,\n",
       "        258.7221744 , 252.77044845],\n",
       "       ...,\n",
       "       [254.18600757, 245.17448741, 252.89448722, ..., 242.36546951,\n",
       "        256.29964452, 256.25213555],\n",
       "       [257.01744791, 250.38894776, 249.9760852 , ..., 249.30948827,\n",
       "        261.03219482, 253.30003335],\n",
       "       [262.03360847, 250.83101784, 258.11109115, ..., 257.25670231,\n",
       "        270.2317883 , 262.76957259]])"
      ]
     },
     "execution_count": 7,
     "metadata": {},
     "output_type": "execute_result"
    }
   ],
   "source": [
    "mul(bs,bs)"
   ]
  },
  {
   "cell_type": "code",
   "execution_count": 8,
   "id": "b1f1bfa5",
   "metadata": {},
   "outputs": [
    {
     "data": {
      "text/plain": [
       "array([[257.26030546, 249.83078482, 255.56100649, ..., 246.20256677,\n",
       "        263.22037797, 262.79265545],\n",
       "       [267.39701946, 264.21177235, 254.85459247, ..., 260.87955432,\n",
       "        276.2058817 , 268.21432766],\n",
       "       [247.16382253, 239.33191272, 249.11109189, ..., 244.54275481,\n",
       "        258.7221744 , 252.77044845],\n",
       "       ...,\n",
       "       [254.18600757, 245.17448741, 252.89448722, ..., 242.36546951,\n",
       "        256.29964452, 256.25213555],\n",
       "       [257.01744791, 250.38894776, 249.9760852 , ..., 249.30948827,\n",
       "        261.03219482, 253.30003335],\n",
       "       [262.03360847, 250.83101784, 258.11109115, ..., 257.25670231,\n",
       "        270.2317883 , 262.76957259]])"
      ]
     },
     "execution_count": 8,
     "metadata": {},
     "output_type": "execute_result"
    }
   ],
   "source": [
    "bs@bs"
   ]
  },
  {
   "cell_type": "code",
   "execution_count": 9,
   "id": "d31b9bec",
   "metadata": {},
   "outputs": [
    {
     "data": {
      "text/plain": [
       "array([[337.13046517, 264.669609  , 249.1652165 , ..., 250.76271047,\n",
       "        247.70597997, 258.41232767],\n",
       "       [264.669609  , 352.07906144, 256.59274281, ..., 261.06662929,\n",
       "        265.64051281, 271.91539599],\n",
       "       [249.1652165 , 256.59274281, 321.6757977 , ..., 244.49526199,\n",
       "        244.56799361, 253.58892779],\n",
       "       ...,\n",
       "       [250.76271047, 261.06662929, 244.49526199, ..., 328.3687971 ,\n",
       "        245.83031186, 251.79725135],\n",
       "       [247.70597997, 265.64051281, 244.56799361, ..., 245.83031186,\n",
       "        337.23628049, 256.80905423],\n",
       "       [258.41232767, 271.91539599, 253.58892779, ..., 251.79725135,\n",
       "        256.80905423, 354.17532093]])"
      ]
     },
     "execution_count": 9,
     "metadata": {},
     "output_type": "execute_result"
    }
   ],
   "source": [
    "bs@bs.T"
   ]
  },
  {
   "cell_type": "code",
   "execution_count": 10,
   "id": "263089c8",
   "metadata": {},
   "outputs": [
    {
     "data": {
      "text/plain": [
       "array([[337.13046517, 264.669609  , 249.1652165 , ..., 250.76271047,\n",
       "        247.70597997, 258.41232767],\n",
       "       [264.669609  , 352.07906144, 256.59274281, ..., 261.06662929,\n",
       "        265.64051281, 271.91539599],\n",
       "       [249.1652165 , 256.59274281, 321.6757977 , ..., 244.49526199,\n",
       "        244.56799361, 253.58892779],\n",
       "       ...,\n",
       "       [250.76271047, 261.06662929, 244.49526199, ..., 328.3687971 ,\n",
       "        245.83031186, 251.79725135],\n",
       "       [247.70597997, 265.64051281, 244.56799361, ..., 245.83031186,\n",
       "        337.23628049, 256.80905423],\n",
       "       [258.41232767, 271.91539599, 253.58892779, ..., 251.79725135,\n",
       "        256.80905423, 354.17532093]])"
      ]
     },
     "execution_count": 10,
     "metadata": {},
     "output_type": "execute_result"
    }
   ],
   "source": [
    "mulT(bs,bs)"
   ]
  },
  {
   "cell_type": "code",
   "execution_count": 11,
   "id": "b29f961a",
   "metadata": {},
   "outputs": [
    {
     "name": "stdout",
     "output_type": "stream",
     "text": [
      "252 ms ± 3.07 ms per loop (mean ± std. dev. of 7 runs, 1 loop each)\n"
     ]
    }
   ],
   "source": [
    "%timeit mul(bs,bs)"
   ]
  },
  {
   "cell_type": "code",
   "execution_count": 12,
   "id": "7e3eb3fe",
   "metadata": {},
   "outputs": [
    {
     "name": "stdout",
     "output_type": "stream",
     "text": [
      "322 ms ± 4.69 ms per loop (mean ± std. dev. of 7 runs, 1 loop each)\n"
     ]
    }
   ],
   "source": [
    "%timeit mulT(bs,bs)"
   ]
  },
  {
   "cell_type": "code",
   "execution_count": 13,
   "id": "cc275305",
   "metadata": {},
   "outputs": [
    {
     "name": "stdout",
     "output_type": "stream",
     "text": [
      "8.56 ms ± 99.9 μs per loop (mean ± std. dev. of 7 runs, 100 loops each)\n"
     ]
    }
   ],
   "source": [
    "%timeit bs@bs.T"
   ]
  }
 ],
 "metadata": {
  "kernelspec": {
   "display_name": "Python 3 (ipykernel)",
   "language": "python",
   "name": "python3"
  },
  "language_info": {
   "codemirror_mode": {
    "name": "ipython",
    "version": 3
   },
   "file_extension": ".py",
   "mimetype": "text/x-python",
   "name": "python",
   "nbconvert_exporter": "python",
   "pygments_lexer": "ipython3",
   "version": "3.13.0"
  }
 },
 "nbformat": 4,
 "nbformat_minor": 5
}

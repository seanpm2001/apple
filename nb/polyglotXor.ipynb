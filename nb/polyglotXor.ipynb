{
 "cells": [
  {
   "cell_type": "code",
   "execution_count": 2,
   "id": "e3a74da8",
   "metadata": {},
   "outputs": [],
   "source": [
    "import numpy as np"
   ]
  },
  {
   "cell_type": "code",
   "execution_count": 3,
   "id": "41eb1f3e",
   "metadata": {},
   "outputs": [],
   "source": [
    "def sigmoid (x):\n",
    "    return 1/(1+np.exp(-x))"
   ]
  },
  {
   "cell_type": "code",
   "execution_count": 4,
   "id": "5f14b239",
   "metadata": {},
   "outputs": [],
   "source": [
    "inputs = np.array([[0.,0],[0,1],[1,0],[1,1]])"
   ]
  },
  {
   "cell_type": "code",
   "execution_count": 5,
   "id": "52960e26",
   "metadata": {},
   "outputs": [],
   "source": [
    "hidden_weights=np.array([[0.51426693,0.56885825],[0.48725347,0.15041493]])"
   ]
  },
  {
   "cell_type": "code",
   "execution_count": 6,
   "id": "05a8f882",
   "metadata": {},
   "outputs": [],
   "source": [
    "hidden_bias=np.array([0.79726405,0.67601843])"
   ]
  },
  {
   "cell_type": "code",
   "execution_count": 7,
   "id": "9f3966e5",
   "metadata": {},
   "outputs": [],
   "source": [
    "output_weights=np.array([[0.14801747],[0.37182892]])"
   ]
  },
  {
   "cell_type": "code",
   "execution_count": 8,
   "id": "222c4cb3",
   "metadata": {},
   "outputs": [],
   "source": [
    "output_bias=0.57823076"
   ]
  },
  {
   "cell_type": "code",
   "execution_count": 9,
   "id": "279d5935",
   "metadata": {},
   "outputs": [],
   "source": [
    "import apple"
   ]
  },
  {
   "cell_type": "code",
   "execution_count": 10,
   "id": "4551e14a",
   "metadata": {},
   "outputs": [],
   "source": [
    "code=apple.jit(\"λX.λwh.λbh. [1%(1+ℯ(_x))]`{0} ([(+)`bh x]'(X%.wh))\")"
   ]
  },
  {
   "cell_type": "code",
   "execution_count": 19,
   "id": "c8ae7924",
   "metadata": {},
   "outputs": [
    {
     "name": "stdout",
     "output_type": "stream",
     "text": [
      "536 ns ± 12.6 ns per loop (mean ± std. dev. of 7 runs, 1,000,000 loops each)\n"
     ]
    }
   ],
   "source": [
    "%timeit hidden_layer_output=apple.f(code,inputs,hidden_weights,hidden_bias)"
   ]
  },
  {
   "cell_type": "code",
   "execution_count": 12,
   "id": "cf882a21",
   "metadata": {},
   "outputs": [
    {
     "name": "stdout",
     "output_type": "stream",
     "text": [
      "[[0.68938884 0.66284947]\n",
      " [0.7832177  0.69560025]\n",
      " [0.78776916 0.77641173]\n",
      " [0.85800085 0.80143567]]\n"
     ]
    }
   ],
   "source": [
    "print(hidden_layer_output)"
   ]
  },
  {
   "cell_type": "code",
   "execution_count": 13,
   "id": "772f9a08",
   "metadata": {},
   "outputs": [],
   "source": [
    "output_layer_activation = np.dot(hidden_layer_output,output_weights)"
   ]
  },
  {
   "cell_type": "code",
   "execution_count": 14,
   "id": "5e532855",
   "metadata": {},
   "outputs": [],
   "source": [
    "output_layer_activation += output_bias"
   ]
  },
  {
   "cell_type": "code",
   "execution_count": 15,
   "id": "9fb1a420",
   "metadata": {},
   "outputs": [],
   "source": [
    "predicted_output = sigmoid(output_layer_activation)"
   ]
  },
  {
   "cell_type": "code",
   "execution_count": 16,
   "id": "c10bc5cc",
   "metadata": {},
   "outputs": [
    {
     "name": "stdout",
     "output_type": "stream",
     "text": [
      "[[0.71641322]\n",
      " [0.72167893]\n",
      " [0.72780743]\n",
      " [0.73169254]]\n"
     ]
    }
   ],
   "source": [
    "print(predicted_output)"
   ]
  },
  {
   "cell_type": "code",
   "execution_count": 17,
   "id": "e36def23",
   "metadata": {},
   "outputs": [],
   "source": [
    "def forward(inputs,hidden_weights,hidden_bias):\n",
    "    hidden_layer_activation = np.dot(inputs,hidden_weights)\n",
    "    hidden_layer_activation += hidden_bias\n",
    "    hidden_layer_output = sigmoid(hidden_layer_activation)\n",
    "    return hidden_layer_output"
   ]
  },
  {
   "cell_type": "code",
   "execution_count": 18,
   "id": "83ce00c7",
   "metadata": {},
   "outputs": [
    {
     "name": "stdout",
     "output_type": "stream",
     "text": [
      "3.32 µs ± 103 ns per loop (mean ± std. dev. of 7 runs, 100,000 loops each)\n"
     ]
    }
   ],
   "source": [
    "%timeit forward(inputs,hidden_weights,hidden_bias)"
   ]
  },
  {
   "cell_type": "code",
   "execution_count": null,
   "id": "968c1529",
   "metadata": {},
   "outputs": [],
   "source": []
  }
 ],
 "metadata": {
  "kernelspec": {
   "display_name": "Python 3 (ipykernel)",
   "language": "python",
   "name": "python3"
  },
  "language_info": {
   "codemirror_mode": {
    "name": "ipython",
    "version": 3
   },
   "file_extension": ".py",
   "mimetype": "text/x-python",
   "name": "python",
   "nbconvert_exporter": "python",
   "pygments_lexer": "ipython3",
   "version": "3.12.4"
  }
 },
 "nbformat": 4,
 "nbformat_minor": 5
}

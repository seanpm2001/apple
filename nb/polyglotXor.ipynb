{
 "cells": [
  {
   "cell_type": "code",
   "execution_count": 1,
   "id": "e3a74da8",
   "metadata": {},
   "outputs": [],
   "source": [
    "import numpy as np"
   ]
  },
  {
   "cell_type": "code",
   "execution_count": 2,
   "id": "41eb1f3e",
   "metadata": {},
   "outputs": [],
   "source": [
    "def sigmoid (x):\n",
    "    return 1/(1+np.exp(-x))"
   ]
  },
  {
   "cell_type": "code",
   "execution_count": 3,
   "id": "5f14b239",
   "metadata": {},
   "outputs": [],
   "source": [
    "inputs = np.array([[0.,0],[0,1],[1,0],[1,1]])"
   ]
  },
  {
   "cell_type": "code",
   "execution_count": 4,
   "id": "52960e26",
   "metadata": {},
   "outputs": [],
   "source": [
    "hidden_weights=np.array([[0.51426693,0.56885825],[0.48725347,0.15041493]])"
   ]
  },
  {
   "cell_type": "code",
   "execution_count": 5,
   "id": "05a8f882",
   "metadata": {},
   "outputs": [],
   "source": [
    "hidden_bias=np.array([0.79726405,0.67601843])"
   ]
  },
  {
   "cell_type": "code",
   "execution_count": 6,
   "id": "9f3966e5",
   "metadata": {},
   "outputs": [],
   "source": [
    "output_weights=np.array([[0.14801747],[0.37182892]])"
   ]
  },
  {
   "cell_type": "code",
   "execution_count": 7,
   "id": "222c4cb3",
   "metadata": {},
   "outputs": [],
   "source": [
    "output_bias=0.57823076"
   ]
  },
  {
   "cell_type": "code",
   "execution_count": 8,
   "id": "279d5935",
   "metadata": {},
   "outputs": [],
   "source": [
    "import apple"
   ]
  },
  {
   "cell_type": "code",
   "execution_count": 9,
   "id": "4551e14a",
   "metadata": {},
   "outputs": [],
   "source": [
    "code=apple.jit(\"λX.λwh.λbh. [1%(1+ℯ(_x))]`{0} ([(+)`bh x]'(X%.wh))\")"
   ]
  },
  {
   "cell_type": "code",
   "execution_count": 10,
   "id": "c8ae7924",
   "metadata": {},
   "outputs": [
    {
     "name": "stdout",
     "output_type": "stream",
     "text": [
      "529 ns ± 3.79 ns per loop (mean ± std. dev. of 7 runs, 1,000,000 loops each)\n"
     ]
    }
   ],
   "source": [
    "%timeit hidden_layer_output=apple.f(code,inputs,hidden_weights,hidden_bias)"
   ]
  },
  {
   "cell_type": "code",
   "execution_count": 11,
   "id": "e36def23",
   "metadata": {},
   "outputs": [],
   "source": [
    "def forward(inputs,hidden_weights,hidden_bias):\n",
    "    hidden_layer_activation = np.dot(inputs,hidden_weights)\n",
    "    hidden_layer_activation += hidden_bias\n",
    "    hidden_layer_output = sigmoid(hidden_layer_activation)\n",
    "    return hidden_layer_output"
   ]
  },
  {
   "cell_type": "code",
   "execution_count": 12,
   "id": "83ce00c7",
   "metadata": {},
   "outputs": [
    {
     "name": "stdout",
     "output_type": "stream",
     "text": [
      "2.79 µs ± 18.1 ns per loop (mean ± std. dev. of 7 runs, 100,000 loops each)\n"
     ]
    }
   ],
   "source": [
    "%timeit forward(inputs,hidden_weights,hidden_bias)"
   ]
  },
  {
   "cell_type": "code",
   "execution_count": 13,
   "id": "2064e5f0",
   "metadata": {},
   "outputs": [],
   "source": [
    "hidden_layer_output=forward(inputs,hidden_weights,hidden_bias)"
   ]
  },
  {
   "cell_type": "code",
   "execution_count": 14,
   "id": "968c1529",
   "metadata": {},
   "outputs": [],
   "source": [
    "def prediction(hidden_layer_output,output_weights,output_bias):\n",
    "    output_layer_activation = np.dot(hidden_layer_output,output_weights)\n",
    "    output_layer_activation += output_bias\n",
    "    predicted_output = sigmoid(output_layer_activation)\n",
    "    return predicted_output"
   ]
  },
  {
   "cell_type": "code",
   "execution_count": 15,
   "id": "bc519aca",
   "metadata": {},
   "outputs": [
    {
     "name": "stdout",
     "output_type": "stream",
     "text": [
      "2.5 µs ± 67.2 ns per loop (mean ± std. dev. of 7 runs, 100,000 loops each)\n"
     ]
    }
   ],
   "source": [
    "%timeit prediction(hidden_layer_output,output_weights,output_bias)"
   ]
  },
  {
   "cell_type": "code",
   "execution_count": 16,
   "id": "c1c47a72",
   "metadata": {},
   "outputs": [],
   "source": [
    "src=apple.jit(\"λho.λwo.λbo. [1%(1+ℯ(_x))]'((+bo)'(ho%:wo))\")"
   ]
  },
  {
   "cell_type": "code",
   "execution_count": 17,
   "id": "36a426d1",
   "metadata": {},
   "outputs": [],
   "source": [
    "output_weights = output_weights.reshape([2])"
   ]
  },
  {
   "cell_type": "code",
   "execution_count": 18,
   "id": "1b002f89",
   "metadata": {},
   "outputs": [
    {
     "name": "stdout",
     "output_type": "stream",
     "text": [
      "300 ns ± 2.68 ns per loop (mean ± std. dev. of 7 runs, 1,000,000 loops each)\n"
     ]
    }
   ],
   "source": [
    "%timeit apple.f(src,hidden_layer_output,output_weights,output_bias)"
   ]
  }
 ],
 "metadata": {
  "kernelspec": {
   "display_name": "Python 3 (ipykernel)",
   "language": "python",
   "name": "python3"
  },
  "language_info": {
   "codemirror_mode": {
    "name": "ipython",
    "version": 3
   },
   "file_extension": ".py",
   "mimetype": "text/x-python",
   "name": "python",
   "nbconvert_exporter": "python",
   "pygments_lexer": "ipython3",
   "version": "3.12.4"
  }
 },
 "nbformat": 4,
 "nbformat_minor": 5
}

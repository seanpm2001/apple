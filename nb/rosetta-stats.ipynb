{
 "cells": [
  {
   "cell_type": "code",
   "execution_count": 1,
   "id": "375798db",
   "metadata": {},
   "outputs": [],
   "source": [
    "source(\"../R/apple.R\")"
   ]
  },
  {
   "cell_type": "code",
   "execution_count": 2,
   "id": "79774afc",
   "metadata": {},
   "outputs": [],
   "source": [
    "library(readr)"
   ]
  },
  {
   "cell_type": "code",
   "execution_count": 3,
   "id": "886314f9",
   "metadata": {},
   "outputs": [],
   "source": [
    "ncdf_str<-read_file(\"../math/ncdf.🍎\")"
   ]
  },
  {
   "cell_type": "code",
   "execution_count": 4,
   "id": "9918640f",
   "metadata": {},
   "outputs": [],
   "source": [
    "ncdf<-jit(ncdf_str)"
   ]
  },
  {
   "cell_type": "code",
   "execution_count": 5,
   "id": "7d4eec11",
   "metadata": {},
   "outputs": [
    {
     "data": {
      "text/html": [
       "0.998650101968371"
      ],
      "text/latex": [
       "0.998650101968371"
      ],
      "text/markdown": [
       "0.998650101968371"
      ],
      "text/plain": [
       "[1] 0.9986501"
      ]
     },
     "metadata": {},
     "output_type": "display_data"
    }
   ],
   "source": [
    "run(ncdf,3)"
   ]
  },
  {
   "cell_type": "code",
   "execution_count": 21,
   "id": "b168f77f",
   "metadata": {},
   "outputs": [],
   "source": [
    "library(microbenchmark)"
   ]
  },
  {
   "cell_type": "code",
   "execution_count": 22,
   "id": "b1e01029",
   "metadata": {},
   "outputs": [
    {
     "data": {
      "text/html": [
       "<table class=\"dataframe\">\n",
       "<caption>A microbenchmark: 100 × 2</caption>\n",
       "<thead>\n",
       "\t<tr><th scope=col>expr</th><th scope=col>time</th></tr>\n",
       "\t<tr><th scope=col>&lt;fct&gt;</th><th scope=col>&lt;dbl&gt;</th></tr>\n",
       "</thead>\n",
       "<tbody>\n",
       "\t<tr><td>run(ncdf, 3)</td><td>27757</td></tr>\n",
       "\t<tr><td>run(ncdf, 3)</td><td> 2542</td></tr>\n",
       "\t<tr><td>run(ncdf, 3)</td><td> 1722</td></tr>\n",
       "\t<tr><td>run(ncdf, 3)</td><td> 1558</td></tr>\n",
       "\t<tr><td>run(ncdf, 3)</td><td> 1886</td></tr>\n",
       "\t<tr><td>run(ncdf, 3)</td><td> 1271</td></tr>\n",
       "\t<tr><td>run(ncdf, 3)</td><td> 1353</td></tr>\n",
       "\t<tr><td>run(ncdf, 3)</td><td> 1271</td></tr>\n",
       "\t<tr><td>run(ncdf, 3)</td><td> 1271</td></tr>\n",
       "\t<tr><td>run(ncdf, 3)</td><td> 1312</td></tr>\n",
       "\t<tr><td>run(ncdf, 3)</td><td> 1230</td></tr>\n",
       "\t<tr><td>run(ncdf, 3)</td><td> 1271</td></tr>\n",
       "\t<tr><td>run(ncdf, 3)</td><td> 1271</td></tr>\n",
       "\t<tr><td>run(ncdf, 3)</td><td> 1271</td></tr>\n",
       "\t<tr><td>run(ncdf, 3)</td><td> 1271</td></tr>\n",
       "\t<tr><td>run(ncdf, 3)</td><td> 1640</td></tr>\n",
       "\t<tr><td>run(ncdf, 3)</td><td> 1230</td></tr>\n",
       "\t<tr><td>run(ncdf, 3)</td><td> 1230</td></tr>\n",
       "\t<tr><td>run(ncdf, 3)</td><td> 1230</td></tr>\n",
       "\t<tr><td>run(ncdf, 3)</td><td> 1230</td></tr>\n",
       "\t<tr><td>run(ncdf, 3)</td><td> 1271</td></tr>\n",
       "\t<tr><td>run(ncdf, 3)</td><td> 1271</td></tr>\n",
       "\t<tr><td>run(ncdf, 3)</td><td> 1271</td></tr>\n",
       "\t<tr><td>run(ncdf, 3)</td><td> 1271</td></tr>\n",
       "\t<tr><td>run(ncdf, 3)</td><td> 1271</td></tr>\n",
       "\t<tr><td>run(ncdf, 3)</td><td> 1681</td></tr>\n",
       "\t<tr><td>run(ncdf, 3)</td><td> 1271</td></tr>\n",
       "\t<tr><td>run(ncdf, 3)</td><td> 1271</td></tr>\n",
       "\t<tr><td>run(ncdf, 3)</td><td> 1271</td></tr>\n",
       "\t<tr><td>run(ncdf, 3)</td><td> 1394</td></tr>\n",
       "\t<tr><td>⋮</td><td>⋮</td></tr>\n",
       "\t<tr><td>run(ncdf, 3)</td><td>1271</td></tr>\n",
       "\t<tr><td>run(ncdf, 3)</td><td>1271</td></tr>\n",
       "\t<tr><td>run(ncdf, 3)</td><td>1271</td></tr>\n",
       "\t<tr><td>run(ncdf, 3)</td><td>1271</td></tr>\n",
       "\t<tr><td>run(ncdf, 3)</td><td>1312</td></tr>\n",
       "\t<tr><td>run(ncdf, 3)</td><td>1271</td></tr>\n",
       "\t<tr><td>run(ncdf, 3)</td><td>1271</td></tr>\n",
       "\t<tr><td>run(ncdf, 3)</td><td>1271</td></tr>\n",
       "\t<tr><td>run(ncdf, 3)</td><td>1271</td></tr>\n",
       "\t<tr><td>run(ncdf, 3)</td><td>1271</td></tr>\n",
       "\t<tr><td>run(ncdf, 3)</td><td>1271</td></tr>\n",
       "\t<tr><td>run(ncdf, 3)</td><td>1271</td></tr>\n",
       "\t<tr><td>run(ncdf, 3)</td><td>1271</td></tr>\n",
       "\t<tr><td>run(ncdf, 3)</td><td>1271</td></tr>\n",
       "\t<tr><td>run(ncdf, 3)</td><td>1353</td></tr>\n",
       "\t<tr><td>run(ncdf, 3)</td><td>1271</td></tr>\n",
       "\t<tr><td>run(ncdf, 3)</td><td>1435</td></tr>\n",
       "\t<tr><td>run(ncdf, 3)</td><td>1230</td></tr>\n",
       "\t<tr><td>run(ncdf, 3)</td><td>1435</td></tr>\n",
       "\t<tr><td>run(ncdf, 3)</td><td>1271</td></tr>\n",
       "\t<tr><td>run(ncdf, 3)</td><td>1271</td></tr>\n",
       "\t<tr><td>run(ncdf, 3)</td><td>1271</td></tr>\n",
       "\t<tr><td>run(ncdf, 3)</td><td>1271</td></tr>\n",
       "\t<tr><td>run(ncdf, 3)</td><td>1230</td></tr>\n",
       "\t<tr><td>run(ncdf, 3)</td><td>1230</td></tr>\n",
       "\t<tr><td>run(ncdf, 3)</td><td>1230</td></tr>\n",
       "\t<tr><td>run(ncdf, 3)</td><td>1271</td></tr>\n",
       "\t<tr><td>run(ncdf, 3)</td><td>1230</td></tr>\n",
       "\t<tr><td>run(ncdf, 3)</td><td>1517</td></tr>\n",
       "\t<tr><td>run(ncdf, 3)</td><td>1271</td></tr>\n",
       "</tbody>\n",
       "</table>\n"
      ],
      "text/latex": [
       "A microbenchmark: 100 × 2\n",
       "\\begin{tabular}{ll}\n",
       " expr & time\\\\\n",
       " <fct> & <dbl>\\\\\n",
       "\\hline\n",
       "\t run(ncdf, 3) & 27757\\\\\n",
       "\t run(ncdf, 3) &  2542\\\\\n",
       "\t run(ncdf, 3) &  1722\\\\\n",
       "\t run(ncdf, 3) &  1558\\\\\n",
       "\t run(ncdf, 3) &  1886\\\\\n",
       "\t run(ncdf, 3) &  1271\\\\\n",
       "\t run(ncdf, 3) &  1353\\\\\n",
       "\t run(ncdf, 3) &  1271\\\\\n",
       "\t run(ncdf, 3) &  1271\\\\\n",
       "\t run(ncdf, 3) &  1312\\\\\n",
       "\t run(ncdf, 3) &  1230\\\\\n",
       "\t run(ncdf, 3) &  1271\\\\\n",
       "\t run(ncdf, 3) &  1271\\\\\n",
       "\t run(ncdf, 3) &  1271\\\\\n",
       "\t run(ncdf, 3) &  1271\\\\\n",
       "\t run(ncdf, 3) &  1640\\\\\n",
       "\t run(ncdf, 3) &  1230\\\\\n",
       "\t run(ncdf, 3) &  1230\\\\\n",
       "\t run(ncdf, 3) &  1230\\\\\n",
       "\t run(ncdf, 3) &  1230\\\\\n",
       "\t run(ncdf, 3) &  1271\\\\\n",
       "\t run(ncdf, 3) &  1271\\\\\n",
       "\t run(ncdf, 3) &  1271\\\\\n",
       "\t run(ncdf, 3) &  1271\\\\\n",
       "\t run(ncdf, 3) &  1271\\\\\n",
       "\t run(ncdf, 3) &  1681\\\\\n",
       "\t run(ncdf, 3) &  1271\\\\\n",
       "\t run(ncdf, 3) &  1271\\\\\n",
       "\t run(ncdf, 3) &  1271\\\\\n",
       "\t run(ncdf, 3) &  1394\\\\\n",
       "\t ⋮ & ⋮\\\\\n",
       "\t run(ncdf, 3) & 1271\\\\\n",
       "\t run(ncdf, 3) & 1271\\\\\n",
       "\t run(ncdf, 3) & 1271\\\\\n",
       "\t run(ncdf, 3) & 1271\\\\\n",
       "\t run(ncdf, 3) & 1312\\\\\n",
       "\t run(ncdf, 3) & 1271\\\\\n",
       "\t run(ncdf, 3) & 1271\\\\\n",
       "\t run(ncdf, 3) & 1271\\\\\n",
       "\t run(ncdf, 3) & 1271\\\\\n",
       "\t run(ncdf, 3) & 1271\\\\\n",
       "\t run(ncdf, 3) & 1271\\\\\n",
       "\t run(ncdf, 3) & 1271\\\\\n",
       "\t run(ncdf, 3) & 1271\\\\\n",
       "\t run(ncdf, 3) & 1271\\\\\n",
       "\t run(ncdf, 3) & 1353\\\\\n",
       "\t run(ncdf, 3) & 1271\\\\\n",
       "\t run(ncdf, 3) & 1435\\\\\n",
       "\t run(ncdf, 3) & 1230\\\\\n",
       "\t run(ncdf, 3) & 1435\\\\\n",
       "\t run(ncdf, 3) & 1271\\\\\n",
       "\t run(ncdf, 3) & 1271\\\\\n",
       "\t run(ncdf, 3) & 1271\\\\\n",
       "\t run(ncdf, 3) & 1271\\\\\n",
       "\t run(ncdf, 3) & 1230\\\\\n",
       "\t run(ncdf, 3) & 1230\\\\\n",
       "\t run(ncdf, 3) & 1230\\\\\n",
       "\t run(ncdf, 3) & 1271\\\\\n",
       "\t run(ncdf, 3) & 1230\\\\\n",
       "\t run(ncdf, 3) & 1517\\\\\n",
       "\t run(ncdf, 3) & 1271\\\\\n",
       "\\end{tabular}\n"
      ],
      "text/markdown": [
       "\n",
       "A microbenchmark: 100 × 2\n",
       "\n",
       "| expr &lt;fct&gt; | time &lt;dbl&gt; |\n",
       "|---|---|\n",
       "| run(ncdf, 3) | 27757 |\n",
       "| run(ncdf, 3) |  2542 |\n",
       "| run(ncdf, 3) |  1722 |\n",
       "| run(ncdf, 3) |  1558 |\n",
       "| run(ncdf, 3) |  1886 |\n",
       "| run(ncdf, 3) |  1271 |\n",
       "| run(ncdf, 3) |  1353 |\n",
       "| run(ncdf, 3) |  1271 |\n",
       "| run(ncdf, 3) |  1271 |\n",
       "| run(ncdf, 3) |  1312 |\n",
       "| run(ncdf, 3) |  1230 |\n",
       "| run(ncdf, 3) |  1271 |\n",
       "| run(ncdf, 3) |  1271 |\n",
       "| run(ncdf, 3) |  1271 |\n",
       "| run(ncdf, 3) |  1271 |\n",
       "| run(ncdf, 3) |  1640 |\n",
       "| run(ncdf, 3) |  1230 |\n",
       "| run(ncdf, 3) |  1230 |\n",
       "| run(ncdf, 3) |  1230 |\n",
       "| run(ncdf, 3) |  1230 |\n",
       "| run(ncdf, 3) |  1271 |\n",
       "| run(ncdf, 3) |  1271 |\n",
       "| run(ncdf, 3) |  1271 |\n",
       "| run(ncdf, 3) |  1271 |\n",
       "| run(ncdf, 3) |  1271 |\n",
       "| run(ncdf, 3) |  1681 |\n",
       "| run(ncdf, 3) |  1271 |\n",
       "| run(ncdf, 3) |  1271 |\n",
       "| run(ncdf, 3) |  1271 |\n",
       "| run(ncdf, 3) |  1394 |\n",
       "| ⋮ | ⋮ |\n",
       "| run(ncdf, 3) | 1271 |\n",
       "| run(ncdf, 3) | 1271 |\n",
       "| run(ncdf, 3) | 1271 |\n",
       "| run(ncdf, 3) | 1271 |\n",
       "| run(ncdf, 3) | 1312 |\n",
       "| run(ncdf, 3) | 1271 |\n",
       "| run(ncdf, 3) | 1271 |\n",
       "| run(ncdf, 3) | 1271 |\n",
       "| run(ncdf, 3) | 1271 |\n",
       "| run(ncdf, 3) | 1271 |\n",
       "| run(ncdf, 3) | 1271 |\n",
       "| run(ncdf, 3) | 1271 |\n",
       "| run(ncdf, 3) | 1271 |\n",
       "| run(ncdf, 3) | 1271 |\n",
       "| run(ncdf, 3) | 1353 |\n",
       "| run(ncdf, 3) | 1271 |\n",
       "| run(ncdf, 3) | 1435 |\n",
       "| run(ncdf, 3) | 1230 |\n",
       "| run(ncdf, 3) | 1435 |\n",
       "| run(ncdf, 3) | 1271 |\n",
       "| run(ncdf, 3) | 1271 |\n",
       "| run(ncdf, 3) | 1271 |\n",
       "| run(ncdf, 3) | 1271 |\n",
       "| run(ncdf, 3) | 1230 |\n",
       "| run(ncdf, 3) | 1230 |\n",
       "| run(ncdf, 3) | 1230 |\n",
       "| run(ncdf, 3) | 1271 |\n",
       "| run(ncdf, 3) | 1230 |\n",
       "| run(ncdf, 3) | 1517 |\n",
       "| run(ncdf, 3) | 1271 |\n",
       "\n"
      ],
      "text/plain": [
       "    expr         time \n",
       "1   run(ncdf, 3) 27757\n",
       "2   run(ncdf, 3)  2542\n",
       "3   run(ncdf, 3)  1722\n",
       "4   run(ncdf, 3)  1558\n",
       "5   run(ncdf, 3)  1886\n",
       "6   run(ncdf, 3)  1271\n",
       "7   run(ncdf, 3)  1353\n",
       "8   run(ncdf, 3)  1271\n",
       "9   run(ncdf, 3)  1271\n",
       "10  run(ncdf, 3)  1312\n",
       "11  run(ncdf, 3)  1230\n",
       "12  run(ncdf, 3)  1271\n",
       "13  run(ncdf, 3)  1271\n",
       "14  run(ncdf, 3)  1271\n",
       "15  run(ncdf, 3)  1271\n",
       "16  run(ncdf, 3)  1640\n",
       "17  run(ncdf, 3)  1230\n",
       "18  run(ncdf, 3)  1230\n",
       "19  run(ncdf, 3)  1230\n",
       "20  run(ncdf, 3)  1230\n",
       "21  run(ncdf, 3)  1271\n",
       "22  run(ncdf, 3)  1271\n",
       "23  run(ncdf, 3)  1271\n",
       "24  run(ncdf, 3)  1271\n",
       "25  run(ncdf, 3)  1271\n",
       "26  run(ncdf, 3)  1681\n",
       "27  run(ncdf, 3)  1271\n",
       "28  run(ncdf, 3)  1271\n",
       "29  run(ncdf, 3)  1271\n",
       "30  run(ncdf, 3)  1394\n",
       "⋮   ⋮            ⋮    \n",
       "71  run(ncdf, 3) 1271 \n",
       "72  run(ncdf, 3) 1271 \n",
       "73  run(ncdf, 3) 1271 \n",
       "74  run(ncdf, 3) 1271 \n",
       "75  run(ncdf, 3) 1312 \n",
       "76  run(ncdf, 3) 1271 \n",
       "77  run(ncdf, 3) 1271 \n",
       "78  run(ncdf, 3) 1271 \n",
       "79  run(ncdf, 3) 1271 \n",
       "80  run(ncdf, 3) 1271 \n",
       "81  run(ncdf, 3) 1271 \n",
       "82  run(ncdf, 3) 1271 \n",
       "83  run(ncdf, 3) 1271 \n",
       "84  run(ncdf, 3) 1271 \n",
       "85  run(ncdf, 3) 1353 \n",
       "86  run(ncdf, 3) 1271 \n",
       "87  run(ncdf, 3) 1435 \n",
       "88  run(ncdf, 3) 1230 \n",
       "89  run(ncdf, 3) 1435 \n",
       "90  run(ncdf, 3) 1271 \n",
       "91  run(ncdf, 3) 1271 \n",
       "92  run(ncdf, 3) 1271 \n",
       "93  run(ncdf, 3) 1271 \n",
       "94  run(ncdf, 3) 1230 \n",
       "95  run(ncdf, 3) 1230 \n",
       "96  run(ncdf, 3) 1230 \n",
       "97  run(ncdf, 3) 1271 \n",
       "98  run(ncdf, 3) 1230 \n",
       "99  run(ncdf, 3) 1517 \n",
       "100 run(ncdf, 3) 1271 "
      ]
     },
     "metadata": {},
     "output_type": "display_data"
    }
   ],
   "source": [
    "microbenchmark(run(ncdf,3))"
   ]
  },
  {
   "cell_type": "code",
   "execution_count": 6,
   "id": "571501db",
   "metadata": {},
   "outputs": [
    {
     "data": {
      "text/html": [
       "0.99865010196837"
      ],
      "text/latex": [
       "0.99865010196837"
      ],
      "text/markdown": [
       "0.99865010196837"
      ],
      "text/plain": [
       "[1] 0.9986501"
      ]
     },
     "metadata": {},
     "output_type": "display_data"
    }
   ],
   "source": [
    "pnorm(3)"
   ]
  },
  {
   "cell_type": "code",
   "execution_count": 23,
   "id": "6397052c",
   "metadata": {},
   "outputs": [
    {
     "data": {
      "text/html": [
       "<table class=\"dataframe\">\n",
       "<caption>A microbenchmark: 100 × 2</caption>\n",
       "<thead>\n",
       "\t<tr><th scope=col>expr</th><th scope=col>time</th></tr>\n",
       "\t<tr><th scope=col>&lt;fct&gt;</th><th scope=col>&lt;dbl&gt;</th></tr>\n",
       "</thead>\n",
       "<tbody>\n",
       "\t<tr><td>pnorm(3)</td><td>9225</td></tr>\n",
       "\t<tr><td>pnorm(3)</td><td>1066</td></tr>\n",
       "\t<tr><td>pnorm(3)</td><td> 779</td></tr>\n",
       "\t<tr><td>pnorm(3)</td><td> 738</td></tr>\n",
       "\t<tr><td>pnorm(3)</td><td> 697</td></tr>\n",
       "\t<tr><td>pnorm(3)</td><td>1230</td></tr>\n",
       "\t<tr><td>pnorm(3)</td><td> 697</td></tr>\n",
       "\t<tr><td>pnorm(3)</td><td> 697</td></tr>\n",
       "\t<tr><td>pnorm(3)</td><td> 697</td></tr>\n",
       "\t<tr><td>pnorm(3)</td><td> 697</td></tr>\n",
       "\t<tr><td>pnorm(3)</td><td> 697</td></tr>\n",
       "\t<tr><td>pnorm(3)</td><td> 697</td></tr>\n",
       "\t<tr><td>pnorm(3)</td><td> 697</td></tr>\n",
       "\t<tr><td>pnorm(3)</td><td> 697</td></tr>\n",
       "\t<tr><td>pnorm(3)</td><td> 656</td></tr>\n",
       "\t<tr><td>pnorm(3)</td><td> 697</td></tr>\n",
       "\t<tr><td>pnorm(3)</td><td>1271</td></tr>\n",
       "\t<tr><td>pnorm(3)</td><td> 656</td></tr>\n",
       "\t<tr><td>pnorm(3)</td><td> 656</td></tr>\n",
       "\t<tr><td>pnorm(3)</td><td> 656</td></tr>\n",
       "\t<tr><td>pnorm(3)</td><td> 697</td></tr>\n",
       "\t<tr><td>pnorm(3)</td><td> 697</td></tr>\n",
       "\t<tr><td>pnorm(3)</td><td> 738</td></tr>\n",
       "\t<tr><td>pnorm(3)</td><td> 697</td></tr>\n",
       "\t<tr><td>pnorm(3)</td><td> 697</td></tr>\n",
       "\t<tr><td>pnorm(3)</td><td> 697</td></tr>\n",
       "\t<tr><td>pnorm(3)</td><td> 656</td></tr>\n",
       "\t<tr><td>pnorm(3)</td><td> 656</td></tr>\n",
       "\t<tr><td>pnorm(3)</td><td> 697</td></tr>\n",
       "\t<tr><td>pnorm(3)</td><td> 697</td></tr>\n",
       "\t<tr><td>⋮</td><td>⋮</td></tr>\n",
       "\t<tr><td>pnorm(3)</td><td> 697</td></tr>\n",
       "\t<tr><td>pnorm(3)</td><td> 697</td></tr>\n",
       "\t<tr><td>pnorm(3)</td><td> 697</td></tr>\n",
       "\t<tr><td>pnorm(3)</td><td> 656</td></tr>\n",
       "\t<tr><td>pnorm(3)</td><td> 656</td></tr>\n",
       "\t<tr><td>pnorm(3)</td><td> 697</td></tr>\n",
       "\t<tr><td>pnorm(3)</td><td> 697</td></tr>\n",
       "\t<tr><td>pnorm(3)</td><td> 697</td></tr>\n",
       "\t<tr><td>pnorm(3)</td><td> 697</td></tr>\n",
       "\t<tr><td>pnorm(3)</td><td>1394</td></tr>\n",
       "\t<tr><td>pnorm(3)</td><td> 697</td></tr>\n",
       "\t<tr><td>pnorm(3)</td><td> 697</td></tr>\n",
       "\t<tr><td>pnorm(3)</td><td> 738</td></tr>\n",
       "\t<tr><td>pnorm(3)</td><td> 697</td></tr>\n",
       "\t<tr><td>pnorm(3)</td><td> 656</td></tr>\n",
       "\t<tr><td>pnorm(3)</td><td> 697</td></tr>\n",
       "\t<tr><td>pnorm(3)</td><td> 697</td></tr>\n",
       "\t<tr><td>pnorm(3)</td><td> 697</td></tr>\n",
       "\t<tr><td>pnorm(3)</td><td> 697</td></tr>\n",
       "\t<tr><td>pnorm(3)</td><td> 738</td></tr>\n",
       "\t<tr><td>pnorm(3)</td><td>1271</td></tr>\n",
       "\t<tr><td>pnorm(3)</td><td> 697</td></tr>\n",
       "\t<tr><td>pnorm(3)</td><td> 697</td></tr>\n",
       "\t<tr><td>pnorm(3)</td><td> 697</td></tr>\n",
       "\t<tr><td>pnorm(3)</td><td> 697</td></tr>\n",
       "\t<tr><td>pnorm(3)</td><td> 656</td></tr>\n",
       "\t<tr><td>pnorm(3)</td><td> 697</td></tr>\n",
       "\t<tr><td>pnorm(3)</td><td> 697</td></tr>\n",
       "\t<tr><td>pnorm(3)</td><td> 697</td></tr>\n",
       "\t<tr><td>pnorm(3)</td><td> 697</td></tr>\n",
       "</tbody>\n",
       "</table>\n"
      ],
      "text/latex": [
       "A microbenchmark: 100 × 2\n",
       "\\begin{tabular}{ll}\n",
       " expr & time\\\\\n",
       " <fct> & <dbl>\\\\\n",
       "\\hline\n",
       "\t pnorm(3) & 9225\\\\\n",
       "\t pnorm(3) & 1066\\\\\n",
       "\t pnorm(3) &  779\\\\\n",
       "\t pnorm(3) &  738\\\\\n",
       "\t pnorm(3) &  697\\\\\n",
       "\t pnorm(3) & 1230\\\\\n",
       "\t pnorm(3) &  697\\\\\n",
       "\t pnorm(3) &  697\\\\\n",
       "\t pnorm(3) &  697\\\\\n",
       "\t pnorm(3) &  697\\\\\n",
       "\t pnorm(3) &  697\\\\\n",
       "\t pnorm(3) &  697\\\\\n",
       "\t pnorm(3) &  697\\\\\n",
       "\t pnorm(3) &  697\\\\\n",
       "\t pnorm(3) &  656\\\\\n",
       "\t pnorm(3) &  697\\\\\n",
       "\t pnorm(3) & 1271\\\\\n",
       "\t pnorm(3) &  656\\\\\n",
       "\t pnorm(3) &  656\\\\\n",
       "\t pnorm(3) &  656\\\\\n",
       "\t pnorm(3) &  697\\\\\n",
       "\t pnorm(3) &  697\\\\\n",
       "\t pnorm(3) &  738\\\\\n",
       "\t pnorm(3) &  697\\\\\n",
       "\t pnorm(3) &  697\\\\\n",
       "\t pnorm(3) &  697\\\\\n",
       "\t pnorm(3) &  656\\\\\n",
       "\t pnorm(3) &  656\\\\\n",
       "\t pnorm(3) &  697\\\\\n",
       "\t pnorm(3) &  697\\\\\n",
       "\t ⋮ & ⋮\\\\\n",
       "\t pnorm(3) &  697\\\\\n",
       "\t pnorm(3) &  697\\\\\n",
       "\t pnorm(3) &  697\\\\\n",
       "\t pnorm(3) &  656\\\\\n",
       "\t pnorm(3) &  656\\\\\n",
       "\t pnorm(3) &  697\\\\\n",
       "\t pnorm(3) &  697\\\\\n",
       "\t pnorm(3) &  697\\\\\n",
       "\t pnorm(3) &  697\\\\\n",
       "\t pnorm(3) & 1394\\\\\n",
       "\t pnorm(3) &  697\\\\\n",
       "\t pnorm(3) &  697\\\\\n",
       "\t pnorm(3) &  738\\\\\n",
       "\t pnorm(3) &  697\\\\\n",
       "\t pnorm(3) &  656\\\\\n",
       "\t pnorm(3) &  697\\\\\n",
       "\t pnorm(3) &  697\\\\\n",
       "\t pnorm(3) &  697\\\\\n",
       "\t pnorm(3) &  697\\\\\n",
       "\t pnorm(3) &  738\\\\\n",
       "\t pnorm(3) & 1271\\\\\n",
       "\t pnorm(3) &  697\\\\\n",
       "\t pnorm(3) &  697\\\\\n",
       "\t pnorm(3) &  697\\\\\n",
       "\t pnorm(3) &  697\\\\\n",
       "\t pnorm(3) &  656\\\\\n",
       "\t pnorm(3) &  697\\\\\n",
       "\t pnorm(3) &  697\\\\\n",
       "\t pnorm(3) &  697\\\\\n",
       "\t pnorm(3) &  697\\\\\n",
       "\\end{tabular}\n"
      ],
      "text/markdown": [
       "\n",
       "A microbenchmark: 100 × 2\n",
       "\n",
       "| expr &lt;fct&gt; | time &lt;dbl&gt; |\n",
       "|---|---|\n",
       "| pnorm(3) | 9225 |\n",
       "| pnorm(3) | 1066 |\n",
       "| pnorm(3) |  779 |\n",
       "| pnorm(3) |  738 |\n",
       "| pnorm(3) |  697 |\n",
       "| pnorm(3) | 1230 |\n",
       "| pnorm(3) |  697 |\n",
       "| pnorm(3) |  697 |\n",
       "| pnorm(3) |  697 |\n",
       "| pnorm(3) |  697 |\n",
       "| pnorm(3) |  697 |\n",
       "| pnorm(3) |  697 |\n",
       "| pnorm(3) |  697 |\n",
       "| pnorm(3) |  697 |\n",
       "| pnorm(3) |  656 |\n",
       "| pnorm(3) |  697 |\n",
       "| pnorm(3) | 1271 |\n",
       "| pnorm(3) |  656 |\n",
       "| pnorm(3) |  656 |\n",
       "| pnorm(3) |  656 |\n",
       "| pnorm(3) |  697 |\n",
       "| pnorm(3) |  697 |\n",
       "| pnorm(3) |  738 |\n",
       "| pnorm(3) |  697 |\n",
       "| pnorm(3) |  697 |\n",
       "| pnorm(3) |  697 |\n",
       "| pnorm(3) |  656 |\n",
       "| pnorm(3) |  656 |\n",
       "| pnorm(3) |  697 |\n",
       "| pnorm(3) |  697 |\n",
       "| ⋮ | ⋮ |\n",
       "| pnorm(3) |  697 |\n",
       "| pnorm(3) |  697 |\n",
       "| pnorm(3) |  697 |\n",
       "| pnorm(3) |  656 |\n",
       "| pnorm(3) |  656 |\n",
       "| pnorm(3) |  697 |\n",
       "| pnorm(3) |  697 |\n",
       "| pnorm(3) |  697 |\n",
       "| pnorm(3) |  697 |\n",
       "| pnorm(3) | 1394 |\n",
       "| pnorm(3) |  697 |\n",
       "| pnorm(3) |  697 |\n",
       "| pnorm(3) |  738 |\n",
       "| pnorm(3) |  697 |\n",
       "| pnorm(3) |  656 |\n",
       "| pnorm(3) |  697 |\n",
       "| pnorm(3) |  697 |\n",
       "| pnorm(3) |  697 |\n",
       "| pnorm(3) |  697 |\n",
       "| pnorm(3) |  738 |\n",
       "| pnorm(3) | 1271 |\n",
       "| pnorm(3) |  697 |\n",
       "| pnorm(3) |  697 |\n",
       "| pnorm(3) |  697 |\n",
       "| pnorm(3) |  697 |\n",
       "| pnorm(3) |  656 |\n",
       "| pnorm(3) |  697 |\n",
       "| pnorm(3) |  697 |\n",
       "| pnorm(3) |  697 |\n",
       "| pnorm(3) |  697 |\n",
       "\n"
      ],
      "text/plain": [
       "    expr     time\n",
       "1   pnorm(3) 9225\n",
       "2   pnorm(3) 1066\n",
       "3   pnorm(3)  779\n",
       "4   pnorm(3)  738\n",
       "5   pnorm(3)  697\n",
       "6   pnorm(3) 1230\n",
       "7   pnorm(3)  697\n",
       "8   pnorm(3)  697\n",
       "9   pnorm(3)  697\n",
       "10  pnorm(3)  697\n",
       "11  pnorm(3)  697\n",
       "12  pnorm(3)  697\n",
       "13  pnorm(3)  697\n",
       "14  pnorm(3)  697\n",
       "15  pnorm(3)  656\n",
       "16  pnorm(3)  697\n",
       "17  pnorm(3) 1271\n",
       "18  pnorm(3)  656\n",
       "19  pnorm(3)  656\n",
       "20  pnorm(3)  656\n",
       "21  pnorm(3)  697\n",
       "22  pnorm(3)  697\n",
       "23  pnorm(3)  738\n",
       "24  pnorm(3)  697\n",
       "25  pnorm(3)  697\n",
       "26  pnorm(3)  697\n",
       "27  pnorm(3)  656\n",
       "28  pnorm(3)  656\n",
       "29  pnorm(3)  697\n",
       "30  pnorm(3)  697\n",
       "⋮   ⋮        ⋮   \n",
       "71  pnorm(3)  697\n",
       "72  pnorm(3)  697\n",
       "73  pnorm(3)  697\n",
       "74  pnorm(3)  656\n",
       "75  pnorm(3)  656\n",
       "76  pnorm(3)  697\n",
       "77  pnorm(3)  697\n",
       "78  pnorm(3)  697\n",
       "79  pnorm(3)  697\n",
       "80  pnorm(3) 1394\n",
       "81  pnorm(3)  697\n",
       "82  pnorm(3)  697\n",
       "83  pnorm(3)  738\n",
       "84  pnorm(3)  697\n",
       "85  pnorm(3)  656\n",
       "86  pnorm(3)  697\n",
       "87  pnorm(3)  697\n",
       "88  pnorm(3)  697\n",
       "89  pnorm(3)  697\n",
       "90  pnorm(3)  738\n",
       "91  pnorm(3) 1271\n",
       "92  pnorm(3)  697\n",
       "93  pnorm(3)  697\n",
       "94  pnorm(3)  697\n",
       "95  pnorm(3)  697\n",
       "96  pnorm(3)  656\n",
       "97  pnorm(3)  697\n",
       "98  pnorm(3)  697\n",
       "99  pnorm(3)  697\n",
       "100 pnorm(3)  697"
      ]
     },
     "metadata": {},
     "output_type": "display_data"
    }
   ],
   "source": [
    "microbenchmark(pnorm(3))"
   ]
  },
  {
   "cell_type": "code",
   "execution_count": 7,
   "id": "0617bf22",
   "metadata": {},
   "outputs": [],
   "source": [
    "chisqcdf_str<-read_file(\"../math/chisqcdf.🍎\")"
   ]
  },
  {
   "cell_type": "code",
   "execution_count": 8,
   "id": "0c073f08",
   "metadata": {},
   "outputs": [],
   "source": [
    "chisqcdf<-jit(chisqcdf_str)"
   ]
  },
  {
   "cell_type": "code",
   "execution_count": 9,
   "id": "44df559d",
   "metadata": {},
   "outputs": [
    {
     "data": {
      "text/html": [
       "1.71828182845905"
      ],
      "text/latex": [
       "1.71828182845905"
      ],
      "text/markdown": [
       "1.71828182845905"
      ],
      "text/plain": [
       "[1] 1.718282"
      ]
     },
     "metadata": {},
     "output_type": "display_data"
    }
   ],
   "source": [
    "run(chisqcdf,2,2)"
   ]
  },
  {
   "cell_type": "code",
   "execution_count": 10,
   "id": "32334b9d",
   "metadata": {},
   "outputs": [
    {
     "data": {
      "text/html": [
       "0.632120558828558"
      ],
      "text/latex": [
       "0.632120558828558"
      ],
      "text/markdown": [
       "0.632120558828558"
      ],
      "text/plain": [
       "[1] 0.6321206"
      ]
     },
     "metadata": {},
     "output_type": "display_data"
    }
   ],
   "source": [
    "pchisq(2,2)"
   ]
  },
  {
   "cell_type": "code",
   "execution_count": 11,
   "id": "a35b30c2",
   "metadata": {},
   "outputs": [],
   "source": [
    "tcdf_str<-read_file(\"../math/tcdf.🍎\")"
   ]
  },
  {
   "cell_type": "code",
   "execution_count": 12,
   "id": "e712a256",
   "metadata": {},
   "outputs": [],
   "source": [
    "tcdf<-jit(tcdf_str)"
   ]
  },
  {
   "cell_type": "code",
   "execution_count": 13,
   "id": "22555a05",
   "metadata": {},
   "outputs": [
    {
     "data": {
      "text/html": [
       "0.965672492980957"
      ],
      "text/latex": [
       "0.965672492980957"
      ],
      "text/markdown": [
       "0.965672492980957"
      ],
      "text/plain": [
       "[1] 0.9656725"
      ]
     },
     "metadata": {},
     "output_type": "display_data"
    }
   ],
   "source": [
    "run(tcdf,2,12)"
   ]
  },
  {
   "cell_type": "code",
   "execution_count": 14,
   "id": "b65c2d49",
   "metadata": {},
   "outputs": [
    {
     "data": {
      "text/html": [
       "0.965672492980957"
      ],
      "text/latex": [
       "0.965672492980957"
      ],
      "text/markdown": [
       "0.965672492980957"
      ],
      "text/plain": [
       "[1] 0.9656725"
      ]
     },
     "metadata": {},
     "output_type": "display_data"
    }
   ],
   "source": [
    "pt(2,12)"
   ]
  }
 ],
 "metadata": {
  "kernelspec": {
   "display_name": "R",
   "language": "R",
   "name": "ir"
  },
  "language_info": {
   "codemirror_mode": "r",
   "file_extension": ".r",
   "mimetype": "text/x-r-source",
   "name": "R",
   "pygments_lexer": "r",
   "version": "4.4.1"
  }
 },
 "nbformat": 4,
 "nbformat_minor": 5
}

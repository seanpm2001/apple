{
 "cells": [
  {
   "cell_type": "code",
   "execution_count": 1,
   "id": "375798db",
   "metadata": {},
   "outputs": [],
   "source": [
    "source(\"../R/apple.R\")"
   ]
  },
  {
   "cell_type": "code",
   "execution_count": 2,
   "id": "79774afc",
   "metadata": {},
   "outputs": [],
   "source": [
    "library(readr)"
   ]
  },
  {
   "cell_type": "code",
   "execution_count": 3,
   "id": "886314f9",
   "metadata": {},
   "outputs": [],
   "source": [
    "ncdf_str<-read_file(\"../math/ncdf.🍎\")"
   ]
  },
  {
   "cell_type": "code",
   "execution_count": 4,
   "id": "9918640f",
   "metadata": {},
   "outputs": [],
   "source": [
    "ncdf<-jit(ncdf_str)"
   ]
  },
  {
   "cell_type": "code",
   "execution_count": 5,
   "id": "7d4eec11",
   "metadata": {},
   "outputs": [
    {
     "data": {
      "text/html": [
       "0.998650101968371"
      ],
      "text/latex": [
       "0.998650101968371"
      ],
      "text/markdown": [
       "0.998650101968371"
      ],
      "text/plain": [
       "[1] 0.9986501"
      ]
     },
     "metadata": {},
     "output_type": "display_data"
    }
   ],
   "source": [
    "run(ncdf,3)"
   ]
  },
  {
   "cell_type": "code",
   "execution_count": 6,
   "id": "b168f77f",
   "metadata": {},
   "outputs": [],
   "source": [
    "library(microbenchmark)"
   ]
  },
  {
   "cell_type": "code",
   "execution_count": 7,
   "id": "b1e01029",
   "metadata": {},
   "outputs": [
    {
     "name": "stderr",
     "output_type": "stream",
     "text": [
      "Warning message in microbenchmark(run(ncdf, 3)):\n",
      "“less accurate nanosecond times to avoid potential integer overflows”\n"
     ]
    },
    {
     "data": {
      "text/html": [
       "<table class=\"dataframe\">\n",
       "<caption>A microbenchmark: 100 × 2</caption>\n",
       "<thead>\n",
       "\t<tr><th scope=col>expr</th><th scope=col>time</th></tr>\n",
       "\t<tr><th scope=col>&lt;fct&gt;</th><th scope=col>&lt;dbl&gt;</th></tr>\n",
       "</thead>\n",
       "<tbody>\n",
       "\t<tr><td>run(ncdf, 3)</td><td>647882</td></tr>\n",
       "\t<tr><td>run(ncdf, 3)</td><td>  1763</td></tr>\n",
       "\t<tr><td>run(ncdf, 3)</td><td>  1148</td></tr>\n",
       "\t<tr><td>run(ncdf, 3)</td><td>   984</td></tr>\n",
       "\t<tr><td>run(ncdf, 3)</td><td>   902</td></tr>\n",
       "\t<tr><td>run(ncdf, 3)</td><td>   902</td></tr>\n",
       "\t<tr><td>run(ncdf, 3)</td><td>   820</td></tr>\n",
       "\t<tr><td>run(ncdf, 3)</td><td>   820</td></tr>\n",
       "\t<tr><td>run(ncdf, 3)</td><td>   861</td></tr>\n",
       "\t<tr><td>run(ncdf, 3)</td><td>   820</td></tr>\n",
       "\t<tr><td>run(ncdf, 3)</td><td>   861</td></tr>\n",
       "\t<tr><td>run(ncdf, 3)</td><td>   861</td></tr>\n",
       "\t<tr><td>run(ncdf, 3)</td><td>   820</td></tr>\n",
       "\t<tr><td>run(ncdf, 3)</td><td>   861</td></tr>\n",
       "\t<tr><td>run(ncdf, 3)</td><td>   820</td></tr>\n",
       "\t<tr><td>run(ncdf, 3)</td><td>   820</td></tr>\n",
       "\t<tr><td>run(ncdf, 3)</td><td>   820</td></tr>\n",
       "\t<tr><td>run(ncdf, 3)</td><td>   943</td></tr>\n",
       "\t<tr><td>run(ncdf, 3)</td><td>   820</td></tr>\n",
       "\t<tr><td>run(ncdf, 3)</td><td>   820</td></tr>\n",
       "\t<tr><td>run(ncdf, 3)</td><td>   820</td></tr>\n",
       "\t<tr><td>run(ncdf, 3)</td><td>   779</td></tr>\n",
       "\t<tr><td>run(ncdf, 3)</td><td>   820</td></tr>\n",
       "\t<tr><td>run(ncdf, 3)</td><td>   820</td></tr>\n",
       "\t<tr><td>run(ncdf, 3)</td><td>   820</td></tr>\n",
       "\t<tr><td>run(ncdf, 3)</td><td>   820</td></tr>\n",
       "\t<tr><td>run(ncdf, 3)</td><td>   820</td></tr>\n",
       "\t<tr><td>run(ncdf, 3)</td><td>   820</td></tr>\n",
       "\t<tr><td>run(ncdf, 3)</td><td>   820</td></tr>\n",
       "\t<tr><td>run(ncdf, 3)</td><td>   943</td></tr>\n",
       "\t<tr><td>⋮</td><td>⋮</td></tr>\n",
       "\t<tr><td>run(ncdf, 3)</td><td>738</td></tr>\n",
       "\t<tr><td>run(ncdf, 3)</td><td>738</td></tr>\n",
       "\t<tr><td>run(ncdf, 3)</td><td>779</td></tr>\n",
       "\t<tr><td>run(ncdf, 3)</td><td>738</td></tr>\n",
       "\t<tr><td>run(ncdf, 3)</td><td>738</td></tr>\n",
       "\t<tr><td>run(ncdf, 3)</td><td>738</td></tr>\n",
       "\t<tr><td>run(ncdf, 3)</td><td>861</td></tr>\n",
       "\t<tr><td>run(ncdf, 3)</td><td>738</td></tr>\n",
       "\t<tr><td>run(ncdf, 3)</td><td>738</td></tr>\n",
       "\t<tr><td>run(ncdf, 3)</td><td>738</td></tr>\n",
       "\t<tr><td>run(ncdf, 3)</td><td>738</td></tr>\n",
       "\t<tr><td>run(ncdf, 3)</td><td>738</td></tr>\n",
       "\t<tr><td>run(ncdf, 3)</td><td>779</td></tr>\n",
       "\t<tr><td>run(ncdf, 3)</td><td>738</td></tr>\n",
       "\t<tr><td>run(ncdf, 3)</td><td>738</td></tr>\n",
       "\t<tr><td>run(ncdf, 3)</td><td>779</td></tr>\n",
       "\t<tr><td>run(ncdf, 3)</td><td>738</td></tr>\n",
       "\t<tr><td>run(ncdf, 3)</td><td>738</td></tr>\n",
       "\t<tr><td>run(ncdf, 3)</td><td>738</td></tr>\n",
       "\t<tr><td>run(ncdf, 3)</td><td>779</td></tr>\n",
       "\t<tr><td>run(ncdf, 3)</td><td>738</td></tr>\n",
       "\t<tr><td>run(ncdf, 3)</td><td>738</td></tr>\n",
       "\t<tr><td>run(ncdf, 3)</td><td>738</td></tr>\n",
       "\t<tr><td>run(ncdf, 3)</td><td>779</td></tr>\n",
       "\t<tr><td>run(ncdf, 3)</td><td>738</td></tr>\n",
       "\t<tr><td>run(ncdf, 3)</td><td>779</td></tr>\n",
       "\t<tr><td>run(ncdf, 3)</td><td>738</td></tr>\n",
       "\t<tr><td>run(ncdf, 3)</td><td>738</td></tr>\n",
       "\t<tr><td>run(ncdf, 3)</td><td>738</td></tr>\n",
       "\t<tr><td>run(ncdf, 3)</td><td>779</td></tr>\n",
       "</tbody>\n",
       "</table>\n"
      ],
      "text/latex": [
       "A microbenchmark: 100 × 2\n",
       "\\begin{tabular}{ll}\n",
       " expr & time\\\\\n",
       " <fct> & <dbl>\\\\\n",
       "\\hline\n",
       "\t run(ncdf, 3) & 647882\\\\\n",
       "\t run(ncdf, 3) &   1763\\\\\n",
       "\t run(ncdf, 3) &   1148\\\\\n",
       "\t run(ncdf, 3) &    984\\\\\n",
       "\t run(ncdf, 3) &    902\\\\\n",
       "\t run(ncdf, 3) &    902\\\\\n",
       "\t run(ncdf, 3) &    820\\\\\n",
       "\t run(ncdf, 3) &    820\\\\\n",
       "\t run(ncdf, 3) &    861\\\\\n",
       "\t run(ncdf, 3) &    820\\\\\n",
       "\t run(ncdf, 3) &    861\\\\\n",
       "\t run(ncdf, 3) &    861\\\\\n",
       "\t run(ncdf, 3) &    820\\\\\n",
       "\t run(ncdf, 3) &    861\\\\\n",
       "\t run(ncdf, 3) &    820\\\\\n",
       "\t run(ncdf, 3) &    820\\\\\n",
       "\t run(ncdf, 3) &    820\\\\\n",
       "\t run(ncdf, 3) &    943\\\\\n",
       "\t run(ncdf, 3) &    820\\\\\n",
       "\t run(ncdf, 3) &    820\\\\\n",
       "\t run(ncdf, 3) &    820\\\\\n",
       "\t run(ncdf, 3) &    779\\\\\n",
       "\t run(ncdf, 3) &    820\\\\\n",
       "\t run(ncdf, 3) &    820\\\\\n",
       "\t run(ncdf, 3) &    820\\\\\n",
       "\t run(ncdf, 3) &    820\\\\\n",
       "\t run(ncdf, 3) &    820\\\\\n",
       "\t run(ncdf, 3) &    820\\\\\n",
       "\t run(ncdf, 3) &    820\\\\\n",
       "\t run(ncdf, 3) &    943\\\\\n",
       "\t ⋮ & ⋮\\\\\n",
       "\t run(ncdf, 3) & 738\\\\\n",
       "\t run(ncdf, 3) & 738\\\\\n",
       "\t run(ncdf, 3) & 779\\\\\n",
       "\t run(ncdf, 3) & 738\\\\\n",
       "\t run(ncdf, 3) & 738\\\\\n",
       "\t run(ncdf, 3) & 738\\\\\n",
       "\t run(ncdf, 3) & 861\\\\\n",
       "\t run(ncdf, 3) & 738\\\\\n",
       "\t run(ncdf, 3) & 738\\\\\n",
       "\t run(ncdf, 3) & 738\\\\\n",
       "\t run(ncdf, 3) & 738\\\\\n",
       "\t run(ncdf, 3) & 738\\\\\n",
       "\t run(ncdf, 3) & 779\\\\\n",
       "\t run(ncdf, 3) & 738\\\\\n",
       "\t run(ncdf, 3) & 738\\\\\n",
       "\t run(ncdf, 3) & 779\\\\\n",
       "\t run(ncdf, 3) & 738\\\\\n",
       "\t run(ncdf, 3) & 738\\\\\n",
       "\t run(ncdf, 3) & 738\\\\\n",
       "\t run(ncdf, 3) & 779\\\\\n",
       "\t run(ncdf, 3) & 738\\\\\n",
       "\t run(ncdf, 3) & 738\\\\\n",
       "\t run(ncdf, 3) & 738\\\\\n",
       "\t run(ncdf, 3) & 779\\\\\n",
       "\t run(ncdf, 3) & 738\\\\\n",
       "\t run(ncdf, 3) & 779\\\\\n",
       "\t run(ncdf, 3) & 738\\\\\n",
       "\t run(ncdf, 3) & 738\\\\\n",
       "\t run(ncdf, 3) & 738\\\\\n",
       "\t run(ncdf, 3) & 779\\\\\n",
       "\\end{tabular}\n"
      ],
      "text/markdown": [
       "\n",
       "A microbenchmark: 100 × 2\n",
       "\n",
       "| expr &lt;fct&gt; | time &lt;dbl&gt; |\n",
       "|---|---|\n",
       "| run(ncdf, 3) | 647882 |\n",
       "| run(ncdf, 3) |   1763 |\n",
       "| run(ncdf, 3) |   1148 |\n",
       "| run(ncdf, 3) |    984 |\n",
       "| run(ncdf, 3) |    902 |\n",
       "| run(ncdf, 3) |    902 |\n",
       "| run(ncdf, 3) |    820 |\n",
       "| run(ncdf, 3) |    820 |\n",
       "| run(ncdf, 3) |    861 |\n",
       "| run(ncdf, 3) |    820 |\n",
       "| run(ncdf, 3) |    861 |\n",
       "| run(ncdf, 3) |    861 |\n",
       "| run(ncdf, 3) |    820 |\n",
       "| run(ncdf, 3) |    861 |\n",
       "| run(ncdf, 3) |    820 |\n",
       "| run(ncdf, 3) |    820 |\n",
       "| run(ncdf, 3) |    820 |\n",
       "| run(ncdf, 3) |    943 |\n",
       "| run(ncdf, 3) |    820 |\n",
       "| run(ncdf, 3) |    820 |\n",
       "| run(ncdf, 3) |    820 |\n",
       "| run(ncdf, 3) |    779 |\n",
       "| run(ncdf, 3) |    820 |\n",
       "| run(ncdf, 3) |    820 |\n",
       "| run(ncdf, 3) |    820 |\n",
       "| run(ncdf, 3) |    820 |\n",
       "| run(ncdf, 3) |    820 |\n",
       "| run(ncdf, 3) |    820 |\n",
       "| run(ncdf, 3) |    820 |\n",
       "| run(ncdf, 3) |    943 |\n",
       "| ⋮ | ⋮ |\n",
       "| run(ncdf, 3) | 738 |\n",
       "| run(ncdf, 3) | 738 |\n",
       "| run(ncdf, 3) | 779 |\n",
       "| run(ncdf, 3) | 738 |\n",
       "| run(ncdf, 3) | 738 |\n",
       "| run(ncdf, 3) | 738 |\n",
       "| run(ncdf, 3) | 861 |\n",
       "| run(ncdf, 3) | 738 |\n",
       "| run(ncdf, 3) | 738 |\n",
       "| run(ncdf, 3) | 738 |\n",
       "| run(ncdf, 3) | 738 |\n",
       "| run(ncdf, 3) | 738 |\n",
       "| run(ncdf, 3) | 779 |\n",
       "| run(ncdf, 3) | 738 |\n",
       "| run(ncdf, 3) | 738 |\n",
       "| run(ncdf, 3) | 779 |\n",
       "| run(ncdf, 3) | 738 |\n",
       "| run(ncdf, 3) | 738 |\n",
       "| run(ncdf, 3) | 738 |\n",
       "| run(ncdf, 3) | 779 |\n",
       "| run(ncdf, 3) | 738 |\n",
       "| run(ncdf, 3) | 738 |\n",
       "| run(ncdf, 3) | 738 |\n",
       "| run(ncdf, 3) | 779 |\n",
       "| run(ncdf, 3) | 738 |\n",
       "| run(ncdf, 3) | 779 |\n",
       "| run(ncdf, 3) | 738 |\n",
       "| run(ncdf, 3) | 738 |\n",
       "| run(ncdf, 3) | 738 |\n",
       "| run(ncdf, 3) | 779 |\n",
       "\n"
      ],
      "text/plain": [
       "    expr         time  \n",
       "1   run(ncdf, 3) 647882\n",
       "2   run(ncdf, 3)   1763\n",
       "3   run(ncdf, 3)   1148\n",
       "4   run(ncdf, 3)    984\n",
       "5   run(ncdf, 3)    902\n",
       "6   run(ncdf, 3)    902\n",
       "7   run(ncdf, 3)    820\n",
       "8   run(ncdf, 3)    820\n",
       "9   run(ncdf, 3)    861\n",
       "10  run(ncdf, 3)    820\n",
       "11  run(ncdf, 3)    861\n",
       "12  run(ncdf, 3)    861\n",
       "13  run(ncdf, 3)    820\n",
       "14  run(ncdf, 3)    861\n",
       "15  run(ncdf, 3)    820\n",
       "16  run(ncdf, 3)    820\n",
       "17  run(ncdf, 3)    820\n",
       "18  run(ncdf, 3)    943\n",
       "19  run(ncdf, 3)    820\n",
       "20  run(ncdf, 3)    820\n",
       "21  run(ncdf, 3)    820\n",
       "22  run(ncdf, 3)    779\n",
       "23  run(ncdf, 3)    820\n",
       "24  run(ncdf, 3)    820\n",
       "25  run(ncdf, 3)    820\n",
       "26  run(ncdf, 3)    820\n",
       "27  run(ncdf, 3)    820\n",
       "28  run(ncdf, 3)    820\n",
       "29  run(ncdf, 3)    820\n",
       "30  run(ncdf, 3)    943\n",
       "⋮   ⋮            ⋮     \n",
       "71  run(ncdf, 3) 738   \n",
       "72  run(ncdf, 3) 738   \n",
       "73  run(ncdf, 3) 779   \n",
       "74  run(ncdf, 3) 738   \n",
       "75  run(ncdf, 3) 738   \n",
       "76  run(ncdf, 3) 738   \n",
       "77  run(ncdf, 3) 861   \n",
       "78  run(ncdf, 3) 738   \n",
       "79  run(ncdf, 3) 738   \n",
       "80  run(ncdf, 3) 738   \n",
       "81  run(ncdf, 3) 738   \n",
       "82  run(ncdf, 3) 738   \n",
       "83  run(ncdf, 3) 779   \n",
       "84  run(ncdf, 3) 738   \n",
       "85  run(ncdf, 3) 738   \n",
       "86  run(ncdf, 3) 779   \n",
       "87  run(ncdf, 3) 738   \n",
       "88  run(ncdf, 3) 738   \n",
       "89  run(ncdf, 3) 738   \n",
       "90  run(ncdf, 3) 779   \n",
       "91  run(ncdf, 3) 738   \n",
       "92  run(ncdf, 3) 738   \n",
       "93  run(ncdf, 3) 738   \n",
       "94  run(ncdf, 3) 779   \n",
       "95  run(ncdf, 3) 738   \n",
       "96  run(ncdf, 3) 779   \n",
       "97  run(ncdf, 3) 738   \n",
       "98  run(ncdf, 3) 738   \n",
       "99  run(ncdf, 3) 738   \n",
       "100 run(ncdf, 3) 779   "
      ]
     },
     "metadata": {},
     "output_type": "display_data"
    }
   ],
   "source": [
    "microbenchmark(run(ncdf,3))"
   ]
  },
  {
   "cell_type": "code",
   "execution_count": 8,
   "id": "571501db",
   "metadata": {},
   "outputs": [
    {
     "data": {
      "text/html": [
       "0.99865010196837"
      ],
      "text/latex": [
       "0.99865010196837"
      ],
      "text/markdown": [
       "0.99865010196837"
      ],
      "text/plain": [
       "[1] 0.9986501"
      ]
     },
     "metadata": {},
     "output_type": "display_data"
    }
   ],
   "source": [
    "pnorm(3)"
   ]
  },
  {
   "cell_type": "code",
   "execution_count": 9,
   "id": "6397052c",
   "metadata": {},
   "outputs": [
    {
     "data": {
      "text/html": [
       "<table class=\"dataframe\">\n",
       "<caption>A microbenchmark: 100 × 2</caption>\n",
       "<thead>\n",
       "\t<tr><th scope=col>expr</th><th scope=col>time</th></tr>\n",
       "\t<tr><th scope=col>&lt;fct&gt;</th><th scope=col>&lt;dbl&gt;</th></tr>\n",
       "</thead>\n",
       "<tbody>\n",
       "\t<tr><td>pnorm(3)</td><td>7257</td></tr>\n",
       "\t<tr><td>pnorm(3)</td><td> 738</td></tr>\n",
       "\t<tr><td>pnorm(3)</td><td> 533</td></tr>\n",
       "\t<tr><td>pnorm(3)</td><td> 533</td></tr>\n",
       "\t<tr><td>pnorm(3)</td><td> 492</td></tr>\n",
       "\t<tr><td>pnorm(3)</td><td> 369</td></tr>\n",
       "\t<tr><td>pnorm(3)</td><td> 369</td></tr>\n",
       "\t<tr><td>pnorm(3)</td><td> 369</td></tr>\n",
       "\t<tr><td>pnorm(3)</td><td> 410</td></tr>\n",
       "\t<tr><td>pnorm(3)</td><td> 410</td></tr>\n",
       "\t<tr><td>pnorm(3)</td><td> 410</td></tr>\n",
       "\t<tr><td>pnorm(3)</td><td> 410</td></tr>\n",
       "\t<tr><td>pnorm(3)</td><td> 410</td></tr>\n",
       "\t<tr><td>pnorm(3)</td><td> 410</td></tr>\n",
       "\t<tr><td>pnorm(3)</td><td> 656</td></tr>\n",
       "\t<tr><td>pnorm(3)</td><td> 410</td></tr>\n",
       "\t<tr><td>pnorm(3)</td><td> 451</td></tr>\n",
       "\t<tr><td>pnorm(3)</td><td> 410</td></tr>\n",
       "\t<tr><td>pnorm(3)</td><td> 410</td></tr>\n",
       "\t<tr><td>pnorm(3)</td><td> 410</td></tr>\n",
       "\t<tr><td>pnorm(3)</td><td> 410</td></tr>\n",
       "\t<tr><td>pnorm(3)</td><td> 410</td></tr>\n",
       "\t<tr><td>pnorm(3)</td><td> 410</td></tr>\n",
       "\t<tr><td>pnorm(3)</td><td> 574</td></tr>\n",
       "\t<tr><td>pnorm(3)</td><td> 410</td></tr>\n",
       "\t<tr><td>pnorm(3)</td><td> 410</td></tr>\n",
       "\t<tr><td>pnorm(3)</td><td> 410</td></tr>\n",
       "\t<tr><td>pnorm(3)</td><td> 410</td></tr>\n",
       "\t<tr><td>pnorm(3)</td><td> 410</td></tr>\n",
       "\t<tr><td>pnorm(3)</td><td> 410</td></tr>\n",
       "\t<tr><td>⋮</td><td>⋮</td></tr>\n",
       "\t<tr><td>pnorm(3)</td><td>410</td></tr>\n",
       "\t<tr><td>pnorm(3)</td><td>410</td></tr>\n",
       "\t<tr><td>pnorm(3)</td><td>410</td></tr>\n",
       "\t<tr><td>pnorm(3)</td><td>451</td></tr>\n",
       "\t<tr><td>pnorm(3)</td><td>410</td></tr>\n",
       "\t<tr><td>pnorm(3)</td><td>410</td></tr>\n",
       "\t<tr><td>pnorm(3)</td><td>410</td></tr>\n",
       "\t<tr><td>pnorm(3)</td><td>410</td></tr>\n",
       "\t<tr><td>pnorm(3)</td><td>410</td></tr>\n",
       "\t<tr><td>pnorm(3)</td><td>615</td></tr>\n",
       "\t<tr><td>pnorm(3)</td><td>410</td></tr>\n",
       "\t<tr><td>pnorm(3)</td><td>410</td></tr>\n",
       "\t<tr><td>pnorm(3)</td><td>451</td></tr>\n",
       "\t<tr><td>pnorm(3)</td><td>369</td></tr>\n",
       "\t<tr><td>pnorm(3)</td><td>615</td></tr>\n",
       "\t<tr><td>pnorm(3)</td><td>410</td></tr>\n",
       "\t<tr><td>pnorm(3)</td><td>451</td></tr>\n",
       "\t<tr><td>pnorm(3)</td><td>410</td></tr>\n",
       "\t<tr><td>pnorm(3)</td><td>492</td></tr>\n",
       "\t<tr><td>pnorm(3)</td><td>410</td></tr>\n",
       "\t<tr><td>pnorm(3)</td><td>410</td></tr>\n",
       "\t<tr><td>pnorm(3)</td><td>410</td></tr>\n",
       "\t<tr><td>pnorm(3)</td><td>574</td></tr>\n",
       "\t<tr><td>pnorm(3)</td><td>410</td></tr>\n",
       "\t<tr><td>pnorm(3)</td><td>492</td></tr>\n",
       "\t<tr><td>pnorm(3)</td><td>410</td></tr>\n",
       "\t<tr><td>pnorm(3)</td><td>410</td></tr>\n",
       "\t<tr><td>pnorm(3)</td><td>410</td></tr>\n",
       "\t<tr><td>pnorm(3)</td><td>410</td></tr>\n",
       "\t<tr><td>pnorm(3)</td><td>492</td></tr>\n",
       "</tbody>\n",
       "</table>\n"
      ],
      "text/latex": [
       "A microbenchmark: 100 × 2\n",
       "\\begin{tabular}{ll}\n",
       " expr & time\\\\\n",
       " <fct> & <dbl>\\\\\n",
       "\\hline\n",
       "\t pnorm(3) & 7257\\\\\n",
       "\t pnorm(3) &  738\\\\\n",
       "\t pnorm(3) &  533\\\\\n",
       "\t pnorm(3) &  533\\\\\n",
       "\t pnorm(3) &  492\\\\\n",
       "\t pnorm(3) &  369\\\\\n",
       "\t pnorm(3) &  369\\\\\n",
       "\t pnorm(3) &  369\\\\\n",
       "\t pnorm(3) &  410\\\\\n",
       "\t pnorm(3) &  410\\\\\n",
       "\t pnorm(3) &  410\\\\\n",
       "\t pnorm(3) &  410\\\\\n",
       "\t pnorm(3) &  410\\\\\n",
       "\t pnorm(3) &  410\\\\\n",
       "\t pnorm(3) &  656\\\\\n",
       "\t pnorm(3) &  410\\\\\n",
       "\t pnorm(3) &  451\\\\\n",
       "\t pnorm(3) &  410\\\\\n",
       "\t pnorm(3) &  410\\\\\n",
       "\t pnorm(3) &  410\\\\\n",
       "\t pnorm(3) &  410\\\\\n",
       "\t pnorm(3) &  410\\\\\n",
       "\t pnorm(3) &  410\\\\\n",
       "\t pnorm(3) &  574\\\\\n",
       "\t pnorm(3) &  410\\\\\n",
       "\t pnorm(3) &  410\\\\\n",
       "\t pnorm(3) &  410\\\\\n",
       "\t pnorm(3) &  410\\\\\n",
       "\t pnorm(3) &  410\\\\\n",
       "\t pnorm(3) &  410\\\\\n",
       "\t ⋮ & ⋮\\\\\n",
       "\t pnorm(3) & 410\\\\\n",
       "\t pnorm(3) & 410\\\\\n",
       "\t pnorm(3) & 410\\\\\n",
       "\t pnorm(3) & 451\\\\\n",
       "\t pnorm(3) & 410\\\\\n",
       "\t pnorm(3) & 410\\\\\n",
       "\t pnorm(3) & 410\\\\\n",
       "\t pnorm(3) & 410\\\\\n",
       "\t pnorm(3) & 410\\\\\n",
       "\t pnorm(3) & 615\\\\\n",
       "\t pnorm(3) & 410\\\\\n",
       "\t pnorm(3) & 410\\\\\n",
       "\t pnorm(3) & 451\\\\\n",
       "\t pnorm(3) & 369\\\\\n",
       "\t pnorm(3) & 615\\\\\n",
       "\t pnorm(3) & 410\\\\\n",
       "\t pnorm(3) & 451\\\\\n",
       "\t pnorm(3) & 410\\\\\n",
       "\t pnorm(3) & 492\\\\\n",
       "\t pnorm(3) & 410\\\\\n",
       "\t pnorm(3) & 410\\\\\n",
       "\t pnorm(3) & 410\\\\\n",
       "\t pnorm(3) & 574\\\\\n",
       "\t pnorm(3) & 410\\\\\n",
       "\t pnorm(3) & 492\\\\\n",
       "\t pnorm(3) & 410\\\\\n",
       "\t pnorm(3) & 410\\\\\n",
       "\t pnorm(3) & 410\\\\\n",
       "\t pnorm(3) & 410\\\\\n",
       "\t pnorm(3) & 492\\\\\n",
       "\\end{tabular}\n"
      ],
      "text/markdown": [
       "\n",
       "A microbenchmark: 100 × 2\n",
       "\n",
       "| expr &lt;fct&gt; | time &lt;dbl&gt; |\n",
       "|---|---|\n",
       "| pnorm(3) | 7257 |\n",
       "| pnorm(3) |  738 |\n",
       "| pnorm(3) |  533 |\n",
       "| pnorm(3) |  533 |\n",
       "| pnorm(3) |  492 |\n",
       "| pnorm(3) |  369 |\n",
       "| pnorm(3) |  369 |\n",
       "| pnorm(3) |  369 |\n",
       "| pnorm(3) |  410 |\n",
       "| pnorm(3) |  410 |\n",
       "| pnorm(3) |  410 |\n",
       "| pnorm(3) |  410 |\n",
       "| pnorm(3) |  410 |\n",
       "| pnorm(3) |  410 |\n",
       "| pnorm(3) |  656 |\n",
       "| pnorm(3) |  410 |\n",
       "| pnorm(3) |  451 |\n",
       "| pnorm(3) |  410 |\n",
       "| pnorm(3) |  410 |\n",
       "| pnorm(3) |  410 |\n",
       "| pnorm(3) |  410 |\n",
       "| pnorm(3) |  410 |\n",
       "| pnorm(3) |  410 |\n",
       "| pnorm(3) |  574 |\n",
       "| pnorm(3) |  410 |\n",
       "| pnorm(3) |  410 |\n",
       "| pnorm(3) |  410 |\n",
       "| pnorm(3) |  410 |\n",
       "| pnorm(3) |  410 |\n",
       "| pnorm(3) |  410 |\n",
       "| ⋮ | ⋮ |\n",
       "| pnorm(3) | 410 |\n",
       "| pnorm(3) | 410 |\n",
       "| pnorm(3) | 410 |\n",
       "| pnorm(3) | 451 |\n",
       "| pnorm(3) | 410 |\n",
       "| pnorm(3) | 410 |\n",
       "| pnorm(3) | 410 |\n",
       "| pnorm(3) | 410 |\n",
       "| pnorm(3) | 410 |\n",
       "| pnorm(3) | 615 |\n",
       "| pnorm(3) | 410 |\n",
       "| pnorm(3) | 410 |\n",
       "| pnorm(3) | 451 |\n",
       "| pnorm(3) | 369 |\n",
       "| pnorm(3) | 615 |\n",
       "| pnorm(3) | 410 |\n",
       "| pnorm(3) | 451 |\n",
       "| pnorm(3) | 410 |\n",
       "| pnorm(3) | 492 |\n",
       "| pnorm(3) | 410 |\n",
       "| pnorm(3) | 410 |\n",
       "| pnorm(3) | 410 |\n",
       "| pnorm(3) | 574 |\n",
       "| pnorm(3) | 410 |\n",
       "| pnorm(3) | 492 |\n",
       "| pnorm(3) | 410 |\n",
       "| pnorm(3) | 410 |\n",
       "| pnorm(3) | 410 |\n",
       "| pnorm(3) | 410 |\n",
       "| pnorm(3) | 492 |\n",
       "\n"
      ],
      "text/plain": [
       "    expr     time\n",
       "1   pnorm(3) 7257\n",
       "2   pnorm(3)  738\n",
       "3   pnorm(3)  533\n",
       "4   pnorm(3)  533\n",
       "5   pnorm(3)  492\n",
       "6   pnorm(3)  369\n",
       "7   pnorm(3)  369\n",
       "8   pnorm(3)  369\n",
       "9   pnorm(3)  410\n",
       "10  pnorm(3)  410\n",
       "11  pnorm(3)  410\n",
       "12  pnorm(3)  410\n",
       "13  pnorm(3)  410\n",
       "14  pnorm(3)  410\n",
       "15  pnorm(3)  656\n",
       "16  pnorm(3)  410\n",
       "17  pnorm(3)  451\n",
       "18  pnorm(3)  410\n",
       "19  pnorm(3)  410\n",
       "20  pnorm(3)  410\n",
       "21  pnorm(3)  410\n",
       "22  pnorm(3)  410\n",
       "23  pnorm(3)  410\n",
       "24  pnorm(3)  574\n",
       "25  pnorm(3)  410\n",
       "26  pnorm(3)  410\n",
       "27  pnorm(3)  410\n",
       "28  pnorm(3)  410\n",
       "29  pnorm(3)  410\n",
       "30  pnorm(3)  410\n",
       "⋮   ⋮        ⋮   \n",
       "71  pnorm(3) 410 \n",
       "72  pnorm(3) 410 \n",
       "73  pnorm(3) 410 \n",
       "74  pnorm(3) 451 \n",
       "75  pnorm(3) 410 \n",
       "76  pnorm(3) 410 \n",
       "77  pnorm(3) 410 \n",
       "78  pnorm(3) 410 \n",
       "79  pnorm(3) 410 \n",
       "80  pnorm(3) 615 \n",
       "81  pnorm(3) 410 \n",
       "82  pnorm(3) 410 \n",
       "83  pnorm(3) 451 \n",
       "84  pnorm(3) 369 \n",
       "85  pnorm(3) 615 \n",
       "86  pnorm(3) 410 \n",
       "87  pnorm(3) 451 \n",
       "88  pnorm(3) 410 \n",
       "89  pnorm(3) 492 \n",
       "90  pnorm(3) 410 \n",
       "91  pnorm(3) 410 \n",
       "92  pnorm(3) 410 \n",
       "93  pnorm(3) 574 \n",
       "94  pnorm(3) 410 \n",
       "95  pnorm(3) 492 \n",
       "96  pnorm(3) 410 \n",
       "97  pnorm(3) 410 \n",
       "98  pnorm(3) 410 \n",
       "99  pnorm(3) 410 \n",
       "100 pnorm(3) 492 "
      ]
     },
     "metadata": {},
     "output_type": "display_data"
    }
   ],
   "source": [
    "microbenchmark(pnorm(3))"
   ]
  },
  {
   "cell_type": "code",
   "execution_count": 10,
   "id": "0617bf22",
   "metadata": {},
   "outputs": [],
   "source": [
    "chisqcdf_str<-read_file(\"../math/chisqcdf.🍎\")"
   ]
  },
  {
   "cell_type": "code",
   "execution_count": 11,
   "id": "0c073f08",
   "metadata": {},
   "outputs": [],
   "source": [
    "chisqcdf<-jit(chisqcdf_str)"
   ]
  },
  {
   "cell_type": "code",
   "execution_count": 12,
   "id": "44df559d",
   "metadata": {},
   "outputs": [
    {
     "data": {
      "text/html": [
       "0.632120558828558"
      ],
      "text/latex": [
       "0.632120558828558"
      ],
      "text/markdown": [
       "0.632120558828558"
      ],
      "text/plain": [
       "[1] 0.6321206"
      ]
     },
     "metadata": {},
     "output_type": "display_data"
    }
   ],
   "source": [
    "run(chisqcdf,2,2)"
   ]
  },
  {
   "cell_type": "code",
   "execution_count": 13,
   "id": "32334b9d",
   "metadata": {},
   "outputs": [
    {
     "data": {
      "text/html": [
       "0.632120558828558"
      ],
      "text/latex": [
       "0.632120558828558"
      ],
      "text/markdown": [
       "0.632120558828558"
      ],
      "text/plain": [
       "[1] 0.6321206"
      ]
     },
     "metadata": {},
     "output_type": "display_data"
    }
   ],
   "source": [
    "pchisq(2,2)"
   ]
  },
  {
   "cell_type": "code",
   "execution_count": 14,
   "id": "a35b30c2",
   "metadata": {},
   "outputs": [],
   "source": [
    "tcdf_str<-read_file(\"../math/tcdf.🍎\")"
   ]
  },
  {
   "cell_type": "code",
   "execution_count": 15,
   "id": "e712a256",
   "metadata": {},
   "outputs": [],
   "source": [
    "tcdf<-jit(tcdf_str)"
   ]
  },
  {
   "cell_type": "code",
   "execution_count": 16,
   "id": "22555a05",
   "metadata": {},
   "outputs": [
    {
     "data": {
      "text/html": [
       "0.965672492980957"
      ],
      "text/latex": [
       "0.965672492980957"
      ],
      "text/markdown": [
       "0.965672492980957"
      ],
      "text/plain": [
       "[1] 0.9656725"
      ]
     },
     "metadata": {},
     "output_type": "display_data"
    }
   ],
   "source": [
    "run(tcdf,2,12)"
   ]
  },
  {
   "cell_type": "code",
   "execution_count": 17,
   "id": "b65c2d49",
   "metadata": {},
   "outputs": [
    {
     "data": {
      "text/html": [
       "0.965672492980957"
      ],
      "text/latex": [
       "0.965672492980957"
      ],
      "text/markdown": [
       "0.965672492980957"
      ],
      "text/plain": [
       "[1] 0.9656725"
      ]
     },
     "metadata": {},
     "output_type": "display_data"
    }
   ],
   "source": [
    "pt(2,12)"
   ]
  }
 ],
 "metadata": {
  "kernelspec": {
   "display_name": "R",
   "language": "R",
   "name": "ir"
  },
  "language_info": {
   "codemirror_mode": "r",
   "file_extension": ".r",
   "mimetype": "text/x-r-source",
   "name": "R",
   "pygments_lexer": "r",
   "version": "4.4.1"
  }
 },
 "nbformat": 4,
 "nbformat_minor": 5
}

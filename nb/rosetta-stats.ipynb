{
 "cells": [
  {
   "cell_type": "code",
   "execution_count": 1,
   "id": "375798db",
   "metadata": {},
   "outputs": [],
   "source": [
    "source(\"../R/apple.R\")"
   ]
  },
  {
   "cell_type": "code",
   "execution_count": 2,
   "id": "79774afc",
   "metadata": {},
   "outputs": [],
   "source": [
    "library(readr)"
   ]
  },
  {
   "cell_type": "code",
   "execution_count": 3,
   "id": "886314f9",
   "metadata": {},
   "outputs": [],
   "source": [
    "ncdf_str<-read_file(\"../math/ncdf.🍎\")"
   ]
  },
  {
   "cell_type": "code",
   "execution_count": 4,
   "id": "9918640f",
   "metadata": {},
   "outputs": [],
   "source": [
    "ncdf<-cache(ncdf_str)"
   ]
  },
  {
   "cell_type": "code",
   "execution_count": 5,
   "id": "7d4eec11",
   "metadata": {},
   "outputs": [
    {
     "data": {
      "text/html": [
       "0.998650101968371"
      ],
      "text/latex": [
       "0.998650101968371"
      ],
      "text/markdown": [
       "0.998650101968371"
      ],
      "text/plain": [
       "[1] 0.9986501"
      ]
     },
     "metadata": {},
     "output_type": "display_data"
    }
   ],
   "source": [
    "run(ncdf,3)"
   ]
  },
  {
   "cell_type": "code",
   "execution_count": 6,
   "id": "571501db",
   "metadata": {},
   "outputs": [
    {
     "data": {
      "text/html": [
       "0.99865010196837"
      ],
      "text/latex": [
       "0.99865010196837"
      ],
      "text/markdown": [
       "0.99865010196837"
      ],
      "text/plain": [
       "[1] 0.9986501"
      ]
     },
     "metadata": {},
     "output_type": "display_data"
    }
   ],
   "source": [
    "pnorm(3)"
   ]
  },
  {
   "cell_type": "code",
   "execution_count": 7,
   "id": "0617bf22",
   "metadata": {},
   "outputs": [],
   "source": [
    "chisqcdf_str<-read_file(\"../math/chisqcdf.🍎\")"
   ]
  },
  {
   "cell_type": "code",
   "execution_count": 8,
   "id": "0c073f08",
   "metadata": {},
   "outputs": [],
   "source": [
    "chisqcdf<-cache(chisqcdf_str)"
   ]
  },
  {
   "cell_type": "code",
   "execution_count": 9,
   "id": "44df559d",
   "metadata": {},
   "outputs": [
    {
     "data": {
      "text/html": [
       "0.632120558828558"
      ],
      "text/latex": [
       "0.632120558828558"
      ],
      "text/markdown": [
       "0.632120558828558"
      ],
      "text/plain": [
       "[1] 0.6321206"
      ]
     },
     "metadata": {},
     "output_type": "display_data"
    }
   ],
   "source": [
    "run(chisqcdf,2,2)"
   ]
  },
  {
   "cell_type": "code",
   "execution_count": 10,
   "id": "32334b9d",
   "metadata": {},
   "outputs": [
    {
     "data": {
      "text/html": [
       "0.632120558828558"
      ],
      "text/latex": [
       "0.632120558828558"
      ],
      "text/markdown": [
       "0.632120558828558"
      ],
      "text/plain": [
       "[1] 0.6321206"
      ]
     },
     "metadata": {},
     "output_type": "display_data"
    }
   ],
   "source": [
    "pchisq(2,2)"
   ]
  },
  {
   "cell_type": "code",
   "execution_count": null,
   "id": "a35b30c2",
   "metadata": {},
   "outputs": [],
   "source": [
    "tcdf_str<-read_file(\"../math/tcdf.🍎\")"
   ]
  },
  {
   "cell_type": "code",
   "execution_count": null,
   "id": "e712a256",
   "metadata": {},
   "outputs": [],
   "source": [
    "tcdf<-cache(tcdf_str)"
   ]
  },
  {
   "cell_type": "code",
   "execution_count": null,
   "id": "22555a05",
   "metadata": {},
   "outputs": [],
   "source": [
    "run(tcdf,2,12)"
   ]
  },
  {
   "cell_type": "code",
   "execution_count": null,
   "id": "b65c2d49",
   "metadata": {},
   "outputs": [],
   "source": [
    "pt(2,12)"
   ]
  },
  {
   "cell_type": "code",
   "execution_count": null,
   "id": "b5ce931c",
   "metadata": {},
   "outputs": [],
   "source": []
  }
 ],
 "metadata": {
  "kernelspec": {
   "display_name": "R",
   "language": "R",
   "name": "ir"
  },
  "language_info": {
   "codemirror_mode": "r",
   "file_extension": ".r",
   "mimetype": "text/x-r-source",
   "name": "R",
   "pygments_lexer": "r",
   "version": "4.3.2"
  }
 },
 "nbformat": 4,
 "nbformat_minor": 5
}

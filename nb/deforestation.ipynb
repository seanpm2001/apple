{
 "cells": [
  {
   "cell_type": "code",
   "execution_count": 1,
   "id": "048e1a8d",
   "metadata": {},
   "outputs": [],
   "source": [
    "import numpy as np"
   ]
  },
  {
   "cell_type": "code",
   "execution_count": 2,
   "id": "4768beac",
   "metadata": {},
   "outputs": [
    {
     "name": "stdout",
     "output_type": "stream",
     "text": [
      "8.58 µs ± 131 ns per loop (mean ± std. dev. of 7 runs, 100,000 loops each)\n"
     ]
    }
   ],
   "source": [
    "%timeit np.sum(np.arange(0,10000,1.0,dtype=np.int64))"
   ]
  },
  {
   "cell_type": "code",
   "execution_count": 3,
   "id": "1ec0b9bc",
   "metadata": {},
   "outputs": [],
   "source": [
    "import apple"
   ]
  },
  {
   "cell_type": "code",
   "execution_count": 4,
   "id": "a6b763c9",
   "metadata": {},
   "outputs": [],
   "source": [
    "f=apple.cache('[(+)/o 0 (irange 0 x 1)]')"
   ]
  },
  {
   "cell_type": "code",
   "execution_count": null,
   "id": "945c3cd1",
   "metadata": {},
   "outputs": [],
   "source": [
    "%timeit apple.f(f,9999)"
   ]
  },
  {
   "cell_type": "code",
   "execution_count": null,
   "id": "ff58e451",
   "metadata": {},
   "outputs": [],
   "source": []
  }
 ],
 "metadata": {
  "kernelspec": {
   "display_name": "Python 3 (ipykernel)",
   "language": "python",
   "name": "python3"
  },
  "language_info": {
   "codemirror_mode": {
    "name": "ipython",
    "version": 3
   },
   "file_extension": ".py",
   "mimetype": "text/x-python",
   "name": "python",
   "nbconvert_exporter": "python",
   "pygments_lexer": "ipython3",
   "version": "3.12.0"
  }
 },
 "nbformat": 4,
 "nbformat_minor": 5
}

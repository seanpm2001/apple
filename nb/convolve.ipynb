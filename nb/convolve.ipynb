{
 "cells": [
  {
   "cell_type": "code",
   "execution_count": 1,
   "id": "8108e009",
   "metadata": {},
   "outputs": [],
   "source": [
    "from PIL import Image"
   ]
  },
  {
   "cell_type": "code",
   "execution_count": 2,
   "id": "e810ae43",
   "metadata": {},
   "outputs": [],
   "source": [
    "import numpy as np"
   ]
  },
  {
   "cell_type": "code",
   "execution_count": 3,
   "id": "30014618",
   "metadata": {},
   "outputs": [],
   "source": [
    "bw=Image.open('./data/frog.png').convert(\"L\")"
   ]
  },
  {
   "cell_type": "code",
   "execution_count": 4,
   "id": "242d1809",
   "metadata": {},
   "outputs": [],
   "source": [
    "arr=np.array(bw)"
   ]
  },
  {
   "cell_type": "code",
   "execution_count": 5,
   "id": "17a75851",
   "metadata": {},
   "outputs": [],
   "source": [
    "arr=arr.astype(np.float64)"
   ]
  },
  {
   "cell_type": "code",
   "execution_count": 6,
   "id": "1fcc908c",
   "metadata": {},
   "outputs": [],
   "source": [
    "import apple"
   ]
  },
  {
   "cell_type": "code",
   "execution_count": 7,
   "id": "5d39268b",
   "metadata": {},
   "outputs": [],
   "source": [
    "conv=apple.jit('([((+)/* 0 (x::Arr (7`Cons`7`Cons`Nil) float))%ℝ(:x)] ⨳ {7,7})')"
   ]
  },
  {
   "cell_type": "code",
   "execution_count": 8,
   "id": "11a2310c",
   "metadata": {},
   "outputs": [
    {
     "name": "stdout",
     "output_type": "stream",
     "text": [
      "1.45 ms ± 60.5 µs per loop (mean ± std. dev. of 7 runs, 1,000 loops each)\n"
     ]
    }
   ],
   "source": [
    "%timeit apple.jit('([((+)/* 0 (x::Arr (7`Cons`7`Cons`Nil) float))%ℝ(:x)] ⨳ {7,7})')"
   ]
  },
  {
   "cell_type": "code",
   "execution_count": 9,
   "id": "e7de092a",
   "metadata": {},
   "outputs": [],
   "source": [
    "blur=apple.f(conv,arr)"
   ]
  },
  {
   "cell_type": "code",
   "execution_count": 10,
   "id": "f5ee1ef2",
   "metadata": {},
   "outputs": [],
   "source": [
    "Image.fromarray(blur).show()"
   ]
  }
 ],
 "metadata": {
  "kernelspec": {
   "display_name": "Python 3 (ipykernel)",
   "language": "python",
   "name": "python3"
  },
  "language_info": {
   "codemirror_mode": {
    "name": "ipython",
    "version": 3
   },
   "file_extension": ".py",
   "mimetype": "text/x-python",
   "name": "python",
   "nbconvert_exporter": "python",
   "pygments_lexer": "ipython3",
   "version": "3.12.4"
  }
 },
 "nbformat": 4,
 "nbformat_minor": 5
}

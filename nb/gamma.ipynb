{
 "cells": [
  {
   "cell_type": "code",
   "execution_count": 11,
   "id": "55b18d8f",
   "metadata": {},
   "outputs": [],
   "source": [
    "import apple"
   ]
  },
  {
   "cell_type": "code",
   "execution_count": 12,
   "id": "a73efc25",
   "metadata": {},
   "outputs": [],
   "source": [
    "gamma_str='''\n",
    "λz.\n",
    "  { Γ ← λz.\n",
    "    {\n",
    "      zz ⟜ z-1;\n",
    "      c0 ← 0.999999999999997092;\n",
    "      𝛾 ← 607%128;\n",
    "      coeffs ← ⟨ 57.1562356658629235\n",
    "               , _59.5979603554754912\n",
    "               , 14.1360979747417471\n",
    "               , _0.491913816097620199\n",
    "               , 0.339946499848118887e-4\n",
    "               , 0.465236289270485756e-4\n",
    "               , _0.983744753048795646e-4\n",
    "               , 0.158088703224912494e-3\n",
    "               , _0.210264441724104883e-3\n",
    "               , 0.217439618115212643e-3\n",
    "               , _0.164318106536763890e-3\n",
    "               , 0.844182239838527433e-4\n",
    "               , _0.261908384015814087e-4\n",
    "               , 0.368991826595316234e-5\n",
    "               ⟩;\n",
    "      ss ← (+)/([y%(zz+itof x)]`(⍳ 1 14 1) coeffs);\n",
    "      (((zz+0.5)*_.(zz+𝛾+0.5))-(zz+𝛾+0.5))+_.((√(2*𝜋))*(c0+ss))\n",
    "    };\n",
    "    e:(?z≥0.5,.Γ z,.(_.𝜋)-(_.(sin.(𝜋*z)))-Γ(1-z))\n",
    "  }\n",
    "'''"
   ]
  },
  {
   "cell_type": "code",
   "execution_count": 13,
   "id": "bf790a0d",
   "metadata": {},
   "outputs": [],
   "source": [
    "gamma_f=apple.jit(gamma_str)"
   ]
  },
  {
   "cell_type": "code",
   "execution_count": 14,
   "id": "6d4315d5",
   "metadata": {},
   "outputs": [],
   "source": [
    "def gamma(x):\n",
    "    return apple.f(gamma_f,x)"
   ]
  },
  {
   "cell_type": "code",
   "execution_count": 15,
   "id": "5353d20b",
   "metadata": {},
   "outputs": [],
   "source": [
    "import numpy as np"
   ]
  },
  {
   "cell_type": "code",
   "execution_count": 16,
   "id": "cf2d053a",
   "metadata": {},
   "outputs": [],
   "source": [
    "xs=np.arange(0.1,5,0.05)"
   ]
  },
  {
   "cell_type": "code",
   "execution_count": 17,
   "id": "9feafa34",
   "metadata": {},
   "outputs": [],
   "source": [
    "ys=np.vectorize(gamma)(xs)"
   ]
  },
  {
   "cell_type": "code",
   "execution_count": 18,
   "id": "7c6b4620",
   "metadata": {},
   "outputs": [],
   "source": [
    "import matplotlib.pyplot as plt"
   ]
  },
  {
   "cell_type": "code",
   "execution_count": 19,
   "id": "073fa2e8",
   "metadata": {},
   "outputs": [
    {
     "data": {
      "text/plain": [
       "[<matplotlib.lines.Line2D at 0x7fda841c6510>]"
      ]
     },
     "execution_count": 19,
     "metadata": {},
     "output_type": "execute_result"
    },
    {
     "data": {
      "image/png": "[encoded data removed]",
      "text/plain": [
       "<Figure size 640x480 with 1 Axes>"
      ]
     },
     "metadata": {},
     "output_type": "display_data"
    }
   ],
   "source": [
    "plt.plot(xs,ys)"
   ]
  },
  {
   "cell_type": "code",
   "execution_count": null,
   "id": "d6198a62",
   "metadata": {},
   "outputs": [],
   "source": []
  }
 ],
 "metadata": {
  "kernelspec": {
   "display_name": "Python 3 (ipykernel)",
   "language": "python",
   "name": "python3"
  },
  "language_info": {
   "codemirror_mode": {
    "name": "ipython",
    "version": 3
   },
   "file_extension": ".py",
   "mimetype": "text/x-python",
   "name": "python",
   "nbconvert_exporter": "python",
   "pygments_lexer": "ipython3",
   "version": "3.12.4"
  }
 },
 "nbformat": 4,
 "nbformat_minor": 5
}

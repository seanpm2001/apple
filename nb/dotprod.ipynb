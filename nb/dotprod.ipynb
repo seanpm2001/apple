{
 "cells": [
  {
   "cell_type": "code",
   "execution_count": 1,
   "id": "0f10a2ea",
   "metadata": {},
   "outputs": [],
   "source": [
    "import apple"
   ]
  },
  {
   "cell_type": "code",
   "execution_count": 3,
   "id": "067cefe8",
   "metadata": {},
   "outputs": [],
   "source": [
    "dp=apple.jit('[(+)/((*)`((x::Arr (i `Cons` Nil) float)) y)]')"
   ]
  },
  {
   "cell_type": "code",
   "execution_count": 4,
   "id": "dd041917",
   "metadata": {},
   "outputs": [],
   "source": [
    "import numpy as np"
   ]
  },
  {
   "cell_type": "code",
   "execution_count": 5,
   "id": "1d59189c",
   "metadata": {},
   "outputs": [],
   "source": [
    "xs=np.arange(0,10,1.0)"
   ]
  },
  {
   "cell_type": "code",
   "execution_count": 7,
   "id": "862f33cb",
   "metadata": {},
   "outputs": [
    {
     "data": {
      "text/plain": [
       "285.0"
      ]
     },
     "execution_count": 7,
     "metadata": {},
     "output_type": "execute_result"
    }
   ],
   "source": [
    "apple.f(dp,xs,xs)"
   ]
  },
  {
   "cell_type": "code",
   "execution_count": 9,
   "id": "85076714",
   "metadata": {},
   "outputs": [
    {
     "name": "stdout",
     "output_type": "stream",
     "text": [
      "\n",
      "    sub rsp, 8\n",
      "    mov rdx, [rdi+8]\n",
      "    movq xmm3, [rdi+16]\n",
      "    movq xmm2, [rsi+16]\n",
      "    vmulsd xmm0, xmm3, xmm2\n",
      "    mov rcx, 1\n",
      "    cmp rcx, rdx\n",
      "    jge apple_1\n",
      "apple_0:\n",
      "    movq xmm3, [rdi+8*rcx+16]\n",
      "    vfmadd231sd xmm0, xmm3, [rsi+8*rcx+16]\n",
      "    add rcx, 1\n",
      "    cmp rcx, rdx\n",
      "    jl apple_0\n",
      "apple_1:\n",
      "    add rsp, 8\n",
      "    ret\n"
     ]
    }
   ],
   "source": [
    "print(apple.asm('[(+)/((*)`((x::Arr (i `Cons` Nil) float)) y)]'))"
   ]
  },
  {
   "cell_type": "code",
   "execution_count": null,
   "id": "bd960ede",
   "metadata": {},
   "outputs": [],
   "source": []
  }
 ],
 "metadata": {
  "kernelspec": {
   "display_name": "Python 3 (ipykernel)",
   "language": "python",
   "name": "python3"
  },
  "language_info": {
   "codemirror_mode": {
    "name": "ipython",
    "version": 3
   },
   "file_extension": ".py",
   "mimetype": "text/x-python",
   "name": "python",
   "nbconvert_exporter": "python",
   "pygments_lexer": "ipython3",
   "version": "3.12.1"
  }
 },
 "nbformat": 4,
 "nbformat_minor": 5
}

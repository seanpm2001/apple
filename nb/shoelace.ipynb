{
 "cells": [
  {
   "cell_type": "code",
   "execution_count": 2,
   "id": "6aad28d1",
   "metadata": {},
   "outputs": [],
   "source": [
    "import apple"
   ]
  },
  {
   "cell_type": "code",
   "execution_count": 3,
   "id": "d191b7fe",
   "metadata": {},
   "outputs": [],
   "source": [
    "area=apple.cache('λas.λbs. {Σ ⇐ [(+)/x]; 0.5*abs.(Σ ((*)`as (1⊖bs)) - Σ ((*)`(1⊖as) bs))}')"
   ]
  },
  {
   "cell_type": "code",
   "execution_count": 4,
   "id": "1beffedf",
   "metadata": {},
   "outputs": [],
   "source": [
    "import numpy as np"
   ]
  },
  {
   "cell_type": "code",
   "execution_count": 5,
   "id": "f8a0a18a",
   "metadata": {},
   "outputs": [
    {
     "data": {
      "text/plain": [
       "6.0"
      ]
     },
     "execution_count": 5,
     "metadata": {},
     "output_type": "execute_result"
    }
   ],
   "source": [
    "apple.f(area,np.array([0,0,3.]),np.array([0,4,4.]))"
   ]
  },
  {
   "cell_type": "code",
   "execution_count": 2,
   "id": "79dbe475",
   "metadata": {},
   "outputs": [],
   "source": [
    "def shoelace(xs,ys):\n",
    "    return 0.5*(abs(np.sum(xs*np.roll(ys,-1)) - np.sum(ys*np.roll(xs,-1))))"
   ]
  },
  {
   "cell_type": "code",
   "execution_count": 3,
   "id": "988d5aea",
   "metadata": {},
   "outputs": [
    {
     "data": {
      "text/plain": [
       "6.0"
      ]
     },
     "execution_count": 3,
     "metadata": {},
     "output_type": "execute_result"
    }
   ],
   "source": [
    "shoelace(np.array([0,0,3.]),np.array([0,4,4.]))"
   ]
  },
  {
   "cell_type": "code",
   "execution_count": 1,
   "id": "c9b3e8d0",
   "metadata": {},
   "outputs": [],
   "source": [
    "import bqn"
   ]
  },
  {
   "cell_type": "code",
   "execution_count": 4,
   "id": "36e98c19",
   "metadata": {},
   "outputs": [
    {
     "data": {
      "text/plain": [
       "6.0"
      ]
     },
     "execution_count": 4,
     "metadata": {},
     "output_type": "execute_result"
    }
   ],
   "source": [
    "bqn.bqn(\"{|÷⟜2(+´((-1)⌽𝕩)×𝕨) - +´𝕩×((-1)⌽𝕨)}\",np.array([0,0,3.]),np.array([0,4,4.]))"
   ]
  },
  {
   "cell_type": "markdown",
   "id": "c6c18ed7",
   "metadata": {},
   "source": []
  }
 ],
 "metadata": {
  "kernelspec": {
   "display_name": "Python 3 (ipykernel)",
   "language": "python",
   "name": "python3"
  },
  "language_info": {
   "codemirror_mode": {
    "name": "ipython",
    "version": 3
   },
   "file_extension": ".py",
   "mimetype": "text/x-python",
   "name": "python",
   "nbconvert_exporter": "python",
   "pygments_lexer": "ipython3",
   "version": "3.11.3"
  }
 },
 "nbformat": 4,
 "nbformat_minor": 5
}

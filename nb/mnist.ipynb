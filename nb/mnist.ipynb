{
 "cells": [
  {
   "cell_type": "code",
   "execution_count": 1,
   "id": "bd7b3bd3",
   "metadata": {},
   "outputs": [],
   "source": [
    "import numpy as np"
   ]
  },
  {
   "cell_type": "code",
   "execution_count": 2,
   "id": "5c1f6596",
   "metadata": {},
   "outputs": [],
   "source": [
    "import apple"
   ]
  },
  {
   "cell_type": "code",
   "execution_count": 3,
   "id": "7a5d73e6",
   "metadata": {},
   "outputs": [],
   "source": [
    "train_images=np.load('data/train-images.npy')"
   ]
  },
  {
   "cell_type": "code",
   "execution_count": 4,
   "id": "8f6578b8",
   "metadata": {},
   "outputs": [],
   "source": [
    "reshape=apple.jit(\"[♭`{3∘[2,3,4]} (x::Arr (60000 × 28 × 28 × 1) float)]\")"
   ]
  },
  {
   "cell_type": "code",
   "execution_count": 5,
   "id": "8951afb0",
   "metadata": {},
   "outputs": [],
   "source": [
    "train_images_v=reshape(train_images)"
   ]
  },
  {
   "cell_type": "code",
   "execution_count": 6,
   "id": "a8d97cbd",
   "metadata": {},
   "outputs": [],
   "source": [
    "train_labels=np.load('data/train-labels.npy')"
   ]
  },
  {
   "cell_type": "code",
   "execution_count": 7,
   "id": "07eb62dd",
   "metadata": {},
   "outputs": [],
   "source": [
    "def sigmoid(x):\n",
    "    return 1/(np.exp(-x)+1)"
   ]
  },
  {
   "cell_type": "code",
   "execution_count": 8,
   "id": "5411c467",
   "metadata": {},
   "outputs": [],
   "source": [
    "def d_sigmoid(x):\n",
    "    return (np.exp(-x))/((np.exp(-x)+1)**2)"
   ]
  },
  {
   "cell_type": "code",
   "execution_count": 9,
   "id": "547a103d",
   "metadata": {},
   "outputs": [],
   "source": [
    "def softmax(x):\n",
    "    exp_element=np.exp(x-x.max())\n",
    "    return exp_element/np.sum(exp_element,axis=0)"
   ]
  },
  {
   "cell_type": "code",
   "execution_count": 10,
   "id": "d186748c",
   "metadata": {},
   "outputs": [],
   "source": [
    "def d_softmax(x):\n",
    "    exp_element=np.exp(x-x.max())\n",
    "    return exp_element/np.sum(exp_element,axis=0)*(1-exp_element/np.sum(exp_element,axis=0))"
   ]
  },
  {
   "cell_type": "code",
   "execution_count": 11,
   "id": "6c6bb9c0",
   "metadata": {},
   "outputs": [],
   "source": [
    "def init(x,y):\n",
    "    return np.random.uniform(-1.,1.,(x,y))/np.sqrt(x*y)"
   ]
  },
  {
   "cell_type": "code",
   "execution_count": 12,
   "id": "a6bd9a6e",
   "metadata": {},
   "outputs": [],
   "source": [
    "np.random.seed(17)"
   ]
  },
  {
   "cell_type": "code",
   "execution_count": 13,
   "id": "8cbb51b5",
   "metadata": {},
   "outputs": [],
   "source": [
    "l1=init(28*28,128)"
   ]
  },
  {
   "cell_type": "code",
   "execution_count": 14,
   "id": "a6de255a",
   "metadata": {},
   "outputs": [],
   "source": [
    "l2=init(128,10)"
   ]
  },
  {
   "cell_type": "code",
   "execution_count": 15,
   "id": "9db472f6",
   "metadata": {},
   "outputs": [],
   "source": [
    "ssoftmax=apple.jit('''\n",
    "λxs.\n",
    "  { m ⟜ (⋉)/* _1 xs; a ⟜ [e:(x-m)]`{0} xs\n",
    "  ; sum ← [(+)/x]\n",
    "  ; n ⟜ sum`{1} (a::M float)\n",
    "  ; ⍉(([(%x)'y]`{0,1} n a))\n",
    "  }\n",
    "''')"
   ]
  },
  {
   "cell_type": "code",
   "execution_count": 16,
   "id": "8628f9af",
   "metadata": {},
   "outputs": [],
   "source": [
    "vsigmoid=apple.jit(\"([1%(1+ℯ(_x))]`{0})\")"
   ]
  },
  {
   "cell_type": "code",
   "execution_count": 17,
   "id": "932df5d9",
   "metadata": {},
   "outputs": [],
   "source": [
    "vmap=apple.jit(\"((λn.[?x=n,.1::float,.0]'irange 0 9 1)')\")"
   ]
  },
  {
   "cell_type": "code",
   "execution_count": 18,
   "id": "92a639de",
   "metadata": {},
   "outputs": [],
   "source": [
    "mmul=apple.jit(\"[x%.(y::M float)]\")"
   ]
  },
  {
   "cell_type": "code",
   "execution_count": 19,
   "id": "f429d617",
   "metadata": {},
   "outputs": [],
   "source": [
    "train_labels_v=vmap(train_labels)"
   ]
  },
  {
   "cell_type": "code",
   "execution_count": 20,
   "id": "b98abf4a",
   "metadata": {},
   "outputs": [],
   "source": [
    "def fw_py(l1,l2,x):\n",
    "    x_l1p=x.dot(l1)\n",
    "    x_sigmoid=sigmoid(x_l1p)\n",
    "    x_l2p=x_sigmoid.dot(l2)\n",
    "    out=softmax(x_l2p)\n",
    "    return x_l1p,x_sigmoid,x_l2p,out"
   ]
  },
  {
   "cell_type": "code",
   "execution_count": 21,
   "id": "87e9b07a",
   "metadata": {},
   "outputs": [],
   "source": [
    "def fw(l1,l2,x):\n",
    "    x_l1p=mmul(x,l1)\n",
    "    x_sigmoid=vsigmoid(x_l1p)\n",
    "    x_l2p=mmul(x_sigmoid,l2)\n",
    "    out=ssoftmax(x_l2p)\n",
    "    return x_l1p,x_sigmoid,x_l2p,out"
   ]
  },
  {
   "cell_type": "code",
   "execution_count": 22,
   "id": "56a75c84",
   "metadata": {},
   "outputs": [],
   "source": [
    "errorjit=apple.jit('''\n",
    "λout.λtargets.λxl2p.\n",
    "{\n",
    "  dsoftmax ← λxs.\n",
    "    { m ⟜ (⋉)/* _1 xs; a ⟜ [e:(x-m)]`{0} xs\n",
    "    ; sum ← [(+)/x]\n",
    "    ; n ⟜ sum`{1} (a::M float)\n",
    "    ; ⍉([x*(1-x)]`{0} ([(%x)'y]`{0,1} n a))\n",
    "    };\n",
    "  (*)`{0,0} ({n⟜ℝ(𝓉out); [2*x%n]`{0} ((-)`{0,0} out targets)}) (dsoftmax xl2p)\n",
    "}\n",
    "''')"
   ]
  },
  {
   "cell_type": "code",
   "execution_count": 23,
   "id": "f50c287f",
   "metadata": {},
   "outputs": [],
   "source": [
    "u_l2jit=apple.jit('[(|:(x::M float))%.y]')"
   ]
  },
  {
   "cell_type": "code",
   "execution_count": 24,
   "id": "2c289426",
   "metadata": {},
   "outputs": [],
   "source": [
    "u_l1jit=apple.jit('''\n",
    "λx.λl2.λerror.λxl1p.\n",
    "{\n",
    "  dsigmoid ← ((λx.⸎x⟜ℯ(_x);x%(1+x)^2)`{0});\n",
    "  (⍉x)%.((*)`{0,0} (⍉(l2%.(⍉error))) (dsigmoid xl1p))\n",
    "}\n",
    "''')"
   ]
  },
  {
   "cell_type": "code",
   "execution_count": 25,
   "id": "8a95f081",
   "metadata": {},
   "outputs": [],
   "source": [
    "def fw_bw_py(x,y):\n",
    "    targets = np.zeros((len(y),10), np.float64)\n",
    "    targets[range(targets.shape[0]),y] = 1\n",
    "    \n",
    "    x_l1p,x_sigmoid,x_l2p,out=fw_py(l1,l2,x)\n",
    "    \n",
    "    error=2*(out-targets)/out.shape[0]*d_softmax(x_l2p)\n",
    "    update_l2=x_sigmoid.T@error\n",
    "    \n",
    "    error=((l2).dot(error.T)).T*d_sigmoid(x_l1p)\n",
    "    update_l1=x.T@error\n",
    "    \n",
    "    return out,update_l1,update_l2"
   ]
  },
  {
   "cell_type": "code",
   "execution_count": 26,
   "id": "746a01d4",
   "metadata": {},
   "outputs": [],
   "source": [
    "def fw_bw(x,targets):\n",
    "    \n",
    "    x_l1p,x_sigmoid,x_l2p,out=fw(l1,l2,x)\n",
    "\n",
    "\n",
    "    error=errorjit(out,targets,x_l2p)\n",
    "    \n",
    "    update_l2=u_l2jit(x_sigmoid,error)\n",
    "    update_l1=u_l1jit(x,l2,error,x_l1p)\n",
    "\n",
    "    return out,update_l1,update_l2"
   ]
  },
  {
   "cell_type": "code",
   "execution_count": 27,
   "id": "58e00167",
   "metadata": {
    "scrolled": true
   },
   "outputs": [
    {
     "name": "stdout",
     "output_type": "stream",
     "text": [
      "33.4 s ± 936 ms per loop (mean ± std. dev. of 7 runs, 1 loop each)\n"
     ]
    }
   ],
   "source": [
    "%timeit fw_bw(train_images_v,train_labels_v)"
   ]
  },
  {
   "cell_type": "code",
   "execution_count": 28,
   "id": "3265c9b9",
   "metadata": {},
   "outputs": [
    {
     "name": "stdout",
     "output_type": "stream",
     "text": [
      "382 ms ± 15.7 ms per loop (mean ± std. dev. of 7 runs, 1 loop each)\n"
     ]
    }
   ],
   "source": [
    "%timeit fw_bw_py(train_images_v,train_labels)"
   ]
  }
 ],
 "metadata": {
  "kernelspec": {
   "display_name": "Python3.12",
   "language": "python",
   "name": "python312"
  },
  "language_info": {
   "codemirror_mode": {
    "name": "ipython",
    "version": 3
   },
   "file_extension": ".py",
   "mimetype": "text/x-python",
   "name": "python",
   "nbconvert_exporter": "python",
   "pygments_lexer": "ipython3",
   "version": "3.12.6"
  }
 },
 "nbformat": 4,
 "nbformat_minor": 5
}

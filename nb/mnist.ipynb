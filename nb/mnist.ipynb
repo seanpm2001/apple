{
 "cells": [
  {
   "cell_type": "code",
   "execution_count": 1,
   "id": "bd7b3bd3",
   "metadata": {},
   "outputs": [],
   "source": [
    "import numpy as np"
   ]
  },
  {
   "cell_type": "code",
   "execution_count": 2,
   "id": "7a5d73e6",
   "metadata": {},
   "outputs": [],
   "source": [
    "train_images=np.load('data/train-images.npy')"
   ]
  },
  {
   "cell_type": "code",
   "execution_count": 3,
   "id": "ed927a6b",
   "metadata": {},
   "outputs": [],
   "source": [
    "train_images=train_images.reshape((-1,28*28))"
   ]
  },
  {
   "cell_type": "code",
   "execution_count": 4,
   "id": "a8d97cbd",
   "metadata": {},
   "outputs": [],
   "source": [
    "train_labels=np.load('data/train-labels.npy')"
   ]
  },
  {
   "cell_type": "code",
   "execution_count": 5,
   "id": "1dda840a",
   "metadata": {},
   "outputs": [],
   "source": [
    "def sigmoid(x):\n",
    "    return 1/(np.exp(-x)+1)"
   ]
  },
  {
   "cell_type": "code",
   "execution_count": 6,
   "id": "5411c467",
   "metadata": {},
   "outputs": [],
   "source": [
    "def d_sigmoid(x):\n",
    "    return (np.exp(-x))/((np.exp(-x)+1)**2)"
   ]
  },
  {
   "cell_type": "code",
   "execution_count": 7,
   "id": "547a103d",
   "metadata": {},
   "outputs": [],
   "source": [
    "def softmax(x):\n",
    "    exp_element=np.exp(x-x.max())\n",
    "    return exp_element/np.sum(exp_element,axis=0)"
   ]
  },
  {
   "cell_type": "code",
   "execution_count": 8,
   "id": "d186748c",
   "metadata": {},
   "outputs": [],
   "source": [
    "def d_softmax(x):\n",
    "    exp_element=np.exp(x-x.max())\n",
    "    return exp_element/np.sum(exp_element,axis=0)*(1-exp_element/np.sum(exp_element,axis=0))"
   ]
  },
  {
   "cell_type": "code",
   "execution_count": 9,
   "id": "6c6bb9c0",
   "metadata": {},
   "outputs": [],
   "source": [
    "def init(x,y):\n",
    "    return np.random.uniform(-1.,1.,(x,y))/np.sqrt(x*y)"
   ]
  },
  {
   "cell_type": "code",
   "execution_count": 10,
   "id": "a6bd9a6e",
   "metadata": {},
   "outputs": [],
   "source": [
    "np.random.seed(17)"
   ]
  },
  {
   "cell_type": "code",
   "execution_count": 11,
   "id": "8cbb51b5",
   "metadata": {},
   "outputs": [],
   "source": [
    "l1=init(28*28,128)"
   ]
  },
  {
   "cell_type": "code",
   "execution_count": 12,
   "id": "a6de255a",
   "metadata": {},
   "outputs": [],
   "source": [
    "l2=init(128,10)"
   ]
  },
  {
   "cell_type": "code",
   "execution_count": 13,
   "id": "ecda4436",
   "metadata": {},
   "outputs": [],
   "source": [
    "import apple"
   ]
  },
  {
   "cell_type": "code",
   "execution_count": 67,
   "id": "9db472f6",
   "metadata": {},
   "outputs": [],
   "source": [
    "ssoftmax=apple.jit('''\n",
    "λxs.\n",
    "  { m ⟜ (⋉)/* _1 xs; a ⟜ [e:(x-m)]`{0} xs\n",
    "  ; sum ← [(+)/* 0 x]\n",
    "  ; n ⟜ sum a\n",
    "  ; (%n)`{0} a\n",
    "  }\n",
    "''')"
   ]
  },
  {
   "cell_type": "code",
   "execution_count": 60,
   "id": "8628f9af",
   "metadata": {},
   "outputs": [],
   "source": [
    "vsigmoid=apple.jit(\"([1%(1+ℯ(_x))]`{0})\")"
   ]
  },
  {
   "cell_type": "code",
   "execution_count": 16,
   "id": "a5b611c3",
   "metadata": {},
   "outputs": [],
   "source": [
    "vize=apple.jit(\"λn.[?x=n,.1::float,.0]'irange 0 9 1\")"
   ]
  },
  {
   "cell_type": "code",
   "execution_count": 36,
   "id": "932df5d9",
   "metadata": {},
   "outputs": [],
   "source": [
    "vmap=apple.jit(\"((λn.[?x=n,.1::float,.0]'irange 0 9 1)')\")"
   ]
  },
  {
   "cell_type": "code",
   "execution_count": 17,
   "id": "31c0a58e",
   "metadata": {},
   "outputs": [],
   "source": [
    "dp=apple.jit(\"[(+)/ ((*)`((x::Vec n float)) y)]\")"
   ]
  },
  {
   "cell_type": "code",
   "execution_count": 47,
   "id": "92a639de",
   "metadata": {},
   "outputs": [],
   "source": [
    "mmul=apple.jit(\"[x%.(y::M float)]\")"
   ]
  },
  {
   "cell_type": "code",
   "execution_count": 68,
   "id": "746a01d4",
   "metadata": {},
   "outputs": [],
   "source": [
    "def fw_bw(x,y):\n",
    "    # targets = np.zeros((len(y),10), np.float64)\n",
    "    # targets[range(targets.shape[0]),y] = 1\n",
    "    targets=apple.f(vmap,y)\n",
    "\n",
    "    # x_l1p=apple.f(mmul,x,l1)\n",
    "    x_l1p=x.dot(l1)\n",
    "    x_sigmoid=softmax(x_l1p)\n",
    "    # x_sigmoid=apple.f(ssoftmax,x_l1p)\n",
    "    print(x_l1p.shape,x_sigmoid.shape)\n",
    "    x_l2p=x_sigmoid.dot(l2)\n",
    "    out=softmax(x_l2p)\n",
    "\n",
    "    error=2*(out-targets)/out.shape[0]*d_softmax(x_l2p)\n",
    "    update_l2=x_sigmoid.T@error\n",
    "\n",
    "\n",
    "    error=((l2).dot(error.T)).T*d_sigmoid(x_l1p)\n",
    "    update_l1=x.T@error\n",
    "\n",
    "    return out,update_l1,update_l2"
   ]
  },
  {
   "cell_type": "code",
   "execution_count": 69,
   "id": "bcd9ebbf",
   "metadata": {},
   "outputs": [
    {
     "name": "stdout",
     "output_type": "stream",
     "text": [
      "(60000, 128) (60000, 128)\n"
     ]
    },
    {
     "data": {
      "text/plain": [
       "(array([[1.66666675e-05, 1.66666668e-05, 1.66666669e-05, ...,\n",
       "         1.66666668e-05, 1.66666663e-05, 1.66666670e-05],\n",
       "        [1.66666675e-05, 1.66666669e-05, 1.66666664e-05, ...,\n",
       "         1.66666661e-05, 1.66666657e-05, 1.66666677e-05],\n",
       "        [1.66666652e-05, 1.66666672e-05, 1.66666671e-05, ...,\n",
       "         1.66666673e-05, 1.66666665e-05, 1.66666672e-05],\n",
       "        ...,\n",
       "        [1.66666666e-05, 1.66666665e-05, 1.66666667e-05, ...,\n",
       "         1.66666682e-05, 1.66666661e-05, 1.66666662e-05],\n",
       "        [1.66666671e-05, 1.66666666e-05, 1.66666675e-05, ...,\n",
       "         1.66666662e-05, 1.66666669e-05, 1.66666670e-05],\n",
       "        [1.66666667e-05, 1.66666671e-05, 1.66666667e-05, ...,\n",
       "         1.66666655e-05, 1.66666664e-05, 1.66666655e-05]]),\n",
       " array([[0., 0., 0., ..., 0., 0., 0.],\n",
       "        [0., 0., 0., ..., 0., 0., 0.],\n",
       "        [0., 0., 0., ..., 0., 0., 0.],\n",
       "        ...,\n",
       "        [0., 0., 0., ..., 0., 0., 0.],\n",
       "        [0., 0., 0., ..., 0., 0., 0.],\n",
       "        [0., 0., 0., ..., 0., 0., 0.]]),\n",
       " array([[9.25909651e-15, 9.25909651e-15, 9.25909651e-15, ...,\n",
       "         9.25909651e-15, 9.25909651e-15, 9.25909651e-15],\n",
       "        [9.25909650e-15, 9.25909650e-15, 9.25909650e-15, ...,\n",
       "         9.25909650e-15, 9.25909650e-15, 9.25909651e-15],\n",
       "        [9.25909650e-15, 9.25909651e-15, 9.25909651e-15, ...,\n",
       "         9.25909651e-15, 9.25909651e-15, 9.25909651e-15],\n",
       "        ...,\n",
       "        [9.25909651e-15, 9.25909651e-15, 9.25909651e-15, ...,\n",
       "         9.25909651e-15, 9.25909651e-15, 9.25909651e-15],\n",
       "        [9.25909651e-15, 9.25909651e-15, 9.25909651e-15, ...,\n",
       "         9.25909651e-15, 9.25909651e-15, 9.25909652e-15],\n",
       "        [9.25909651e-15, 9.25909651e-15, 9.25909651e-15, ...,\n",
       "         9.25909651e-15, 9.25909651e-15, 9.25909650e-15]]))"
      ]
     },
     "execution_count": 69,
     "metadata": {},
     "output_type": "execute_result"
    }
   ],
   "source": [
    "fw_bw(train_images,train_labels)"
   ]
  },
  {
   "cell_type": "code",
   "execution_count": null,
   "id": "39322cb2",
   "metadata": {},
   "outputs": [],
   "source": []
  }
 ],
 "metadata": {
  "kernelspec": {
   "display_name": "Python 3 (ipykernel)",
   "language": "python",
   "name": "python3"
  },
  "language_info": {
   "codemirror_mode": {
    "name": "ipython",
    "version": 3
   },
   "file_extension": ".py",
   "mimetype": "text/x-python",
   "name": "python",
   "nbconvert_exporter": "python",
   "pygments_lexer": "ipython3",
   "version": "3.12.4"
  }
 },
 "nbformat": 4,
 "nbformat_minor": 5
}

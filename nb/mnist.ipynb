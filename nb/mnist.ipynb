{
 "cells": [
  {
   "cell_type": "code",
   "execution_count": 1,
   "id": "bd7b3bd3",
   "metadata": {},
   "outputs": [],
   "source": [
    "import numpy as np"
   ]
  },
  {
   "cell_type": "code",
   "execution_count": 2,
   "id": "7a5d73e6",
   "metadata": {},
   "outputs": [],
   "source": [
    "train_images=np.load('data/train-images.npy')"
   ]
  },
  {
   "cell_type": "code",
   "execution_count": 3,
   "id": "ed927a6b",
   "metadata": {},
   "outputs": [],
   "source": [
    "train_images=train_images.reshape((-1,28*28))"
   ]
  },
  {
   "cell_type": "code",
   "execution_count": 4,
   "id": "a8d97cbd",
   "metadata": {},
   "outputs": [],
   "source": [
    "train_labels=np.load('data/train-labels.npy')"
   ]
  },
  {
   "cell_type": "code",
   "execution_count": 5,
   "id": "07eb62dd",
   "metadata": {},
   "outputs": [],
   "source": [
    "def sigmoid(x):\n",
    "    return 1/(np.exp(-x)+1)"
   ]
  },
  {
   "cell_type": "code",
   "execution_count": 6,
   "id": "5411c467",
   "metadata": {},
   "outputs": [],
   "source": [
    "def d_sigmoid(x):\n",
    "    return (np.exp(-x))/((np.exp(-x)+1)**2)"
   ]
  },
  {
   "cell_type": "code",
   "execution_count": 7,
   "id": "547a103d",
   "metadata": {},
   "outputs": [],
   "source": [
    "def softmax(x):\n",
    "    exp_element=np.exp(x-x.max())\n",
    "    return exp_element/np.sum(exp_element,axis=0)"
   ]
  },
  {
   "cell_type": "code",
   "execution_count": 8,
   "id": "d186748c",
   "metadata": {},
   "outputs": [],
   "source": [
    "def d_softmax(x):\n",
    "    exp_element=np.exp(x-x.max())\n",
    "    return exp_element/np.sum(exp_element,axis=0)*(1-exp_element/np.sum(exp_element,axis=0))"
   ]
  },
  {
   "cell_type": "code",
   "execution_count": 9,
   "id": "6c6bb9c0",
   "metadata": {},
   "outputs": [],
   "source": [
    "def init(x,y):\n",
    "    return np.random.uniform(-1.,1.,(x,y))/np.sqrt(x*y)"
   ]
  },
  {
   "cell_type": "code",
   "execution_count": 10,
   "id": "a6bd9a6e",
   "metadata": {},
   "outputs": [],
   "source": [
    "np.random.seed(17)"
   ]
  },
  {
   "cell_type": "code",
   "execution_count": 11,
   "id": "8cbb51b5",
   "metadata": {},
   "outputs": [],
   "source": [
    "l1=init(28*28,128)"
   ]
  },
  {
   "cell_type": "code",
   "execution_count": 12,
   "id": "a6de255a",
   "metadata": {},
   "outputs": [],
   "source": [
    "l2=init(128,10)"
   ]
  },
  {
   "cell_type": "code",
   "execution_count": 13,
   "id": "ecda4436",
   "metadata": {},
   "outputs": [],
   "source": [
    "import apple"
   ]
  },
  {
   "cell_type": "code",
   "execution_count": 14,
   "id": "9db472f6",
   "metadata": {},
   "outputs": [],
   "source": [
    "ssoftmax=apple.jit('''\n",
    "λxs.\n",
    "  { m ⟜ (⋉)/* _1 xs; a ⟜ [e:(x-m)]`{0} xs\n",
    "  ; sum ← [(+)/x]\n",
    "  ; n ⟜ sum`{1} (a::M float)\n",
    "  ; |:(([(%x)'y]`{0,1} n a))\n",
    "  }\n",
    "''')"
   ]
  },
  {
   "cell_type": "code",
   "execution_count": 15,
   "id": "8628f9af",
   "metadata": {},
   "outputs": [],
   "source": [
    "vsigmoid=apple.jit(\"([1%(1+ℯ(_x))]`{0})\")"
   ]
  },
  {
   "cell_type": "code",
   "execution_count": 16,
   "id": "932df5d9",
   "metadata": {},
   "outputs": [],
   "source": [
    "vmap=apple.jit(\"((λn.[?x=n,.1::float,.0]'irange 0 9 1)')\")"
   ]
  },
  {
   "cell_type": "code",
   "execution_count": 17,
   "id": "92a639de",
   "metadata": {},
   "outputs": [],
   "source": [
    "mmul=apple.jit(\"[x%.(y::M float)]\")"
   ]
  },
  {
   "cell_type": "code",
   "execution_count": 18,
   "id": "746a01d4",
   "metadata": {},
   "outputs": [],
   "source": [
    "def fw_bw(x,y):\n",
    "    # targets = np.zeros((len(y),10), np.float64)\n",
    "    # targets[range(targets.shape[0]),y] = 1\n",
    "    targets=apple.f(vmap,y)\n",
    "\n",
    "    # x_l1p=x.dot(l1)\n",
    "    x_l1p=apple.f(mmul,x,l1)\n",
    "    # x_sigmoid=sigmoid(x_l1p)\n",
    "    x_sigmoid=apple.f(vsigmoid,x_l1p)\n",
    "    # x_l2p=x_sigmoid.dot(l2)\n",
    "    x_l2p=apple.f(mmul,x_sigmoid,l2)\n",
    "    # out=softmax(x_l2p)\n",
    "    out=apple.f(ssoftmax,x_l2p)\n",
    "\n",
    "    error=2*(out-targets)/out.shape[0]*d_softmax(x_l2p)\n",
    "    update_l2=x_sigmoid.T@error\n",
    "\n",
    "\n",
    "    error=((l2).dot(error.T)).T*d_sigmoid(x_l1p)\n",
    "    update_l1=x.T@error\n",
    "\n",
    "    return out,update_l1,update_l2"
   ]
  },
  {
   "cell_type": "code",
   "execution_count": 19,
   "id": "bcd9ebbf",
   "metadata": {},
   "outputs": [
    {
     "data": {
      "text/plain": [
       "(array([[1.66786736e-05, 1.66682799e-05, 1.66700078e-05, ...,\n",
       "         1.66680789e-05, 1.66606107e-05, 1.66722308e-05],\n",
       "        [1.66795898e-05, 1.66693587e-05, 1.66627420e-05, ...,\n",
       "         1.66583628e-05, 1.66524988e-05, 1.66816094e-05],\n",
       "        [1.66451471e-05, 1.66741052e-05, 1.66730918e-05, ...,\n",
       "         1.66759087e-05, 1.66643422e-05, 1.66748893e-05],\n",
       "        ...,\n",
       "        [1.66659155e-05, 1.66637678e-05, 1.66669794e-05, ...,\n",
       "         1.66895096e-05, 1.66579513e-05, 1.66598272e-05],\n",
       "        [1.66731368e-05, 1.66652597e-05, 1.66789388e-05, ...,\n",
       "         1.66591687e-05, 1.66705506e-05, 1.66714626e-05],\n",
       "        [1.66676569e-05, 1.66739332e-05, 1.66676227e-05, ...,\n",
       "         1.66491424e-05, 1.66624448e-05, 1.66490809e-05]]),\n",
       " array([[0., 0., 0., ..., 0., 0., 0.],\n",
       "        [0., 0., 0., ..., 0., 0., 0.],\n",
       "        [0., 0., 0., ..., 0., 0., 0.],\n",
       "        ...,\n",
       "        [0., 0., 0., ..., 0., 0., 0.],\n",
       "        [0., 0., 0., ..., 0., 0., 0.],\n",
       "        [0., 0., 0., ..., 0., 0., 0.]]),\n",
       " array([[-1.63816477e-06, -1.87133787e-06, -1.65316088e-06, ...,\n",
       "         -1.74144599e-06, -1.62493662e-06, -1.65090763e-06],\n",
       "        [-1.64882789e-06, -1.88622636e-06, -1.66685618e-06, ...,\n",
       "         -1.74627072e-06, -1.64259982e-06, -1.66170199e-06],\n",
       "        [-1.65671367e-06, -1.87425565e-06, -1.66151454e-06, ...,\n",
       "         -1.73692199e-06, -1.62713910e-06, -1.64558746e-06],\n",
       "        ...,\n",
       "        [-1.66872949e-06, -1.88080233e-06, -1.66614186e-06, ...,\n",
       "         -1.75211965e-06, -1.63584624e-06, -1.65987992e-06],\n",
       "        [-1.63484055e-06, -1.88457041e-06, -1.64920577e-06, ...,\n",
       "         -1.73790576e-06, -1.62104328e-06, -1.64544640e-06],\n",
       "        [-1.63758551e-06, -1.86406276e-06, -1.64091563e-06, ...,\n",
       "         -1.73203579e-06, -1.61676090e-06, -1.64158423e-06]]))"
      ]
     },
     "execution_count": 19,
     "metadata": {},
     "output_type": "execute_result"
    }
   ],
   "source": [
    "fw_bw(train_images,train_labels)"
   ]
  }
 ],
 "metadata": {
  "kernelspec": {
   "display_name": "Python3.12",
   "language": "python",
   "name": "python312"
  },
  "language_info": {
   "codemirror_mode": {
    "name": "ipython",
    "version": 3
   },
   "file_extension": ".py",
   "mimetype": "text/x-python",
   "name": "python",
   "nbconvert_exporter": "python",
   "pygments_lexer": "ipython3",
   "version": "3.12.4"
  }
 },
 "nbformat": 4,
 "nbformat_minor": 5
}

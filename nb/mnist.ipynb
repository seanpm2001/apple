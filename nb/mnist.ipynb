{
 "cells": [
  {
   "cell_type": "code",
   "execution_count": 1,
   "id": "bd7b3bd3",
   "metadata": {},
   "outputs": [],
   "source": [
    "import numpy as np"
   ]
  },
  {
   "cell_type": "code",
   "execution_count": 2,
   "id": "5c1f6596",
   "metadata": {},
   "outputs": [],
   "source": [
    "import apple"
   ]
  },
  {
   "cell_type": "code",
   "execution_count": 3,
   "id": "7a5d73e6",
   "metadata": {},
   "outputs": [],
   "source": [
    "train_images=np.load('data/train-images.npy')"
   ]
  },
  {
   "cell_type": "code",
   "execution_count": 4,
   "id": "8f6578b8",
   "metadata": {},
   "outputs": [],
   "source": [
    "reshape=apple.jit(\"[♭`{3∘[2,3,4]} (x::Arr (60000 × 28 × 28 × 1) float)]\")"
   ]
  },
  {
   "cell_type": "code",
   "execution_count": 5,
   "id": "8951afb0",
   "metadata": {},
   "outputs": [],
   "source": [
    "train_images_v=reshape(train_images)"
   ]
  },
  {
   "cell_type": "code",
   "execution_count": 6,
   "id": "a8d97cbd",
   "metadata": {},
   "outputs": [],
   "source": [
    "train_labels=np.load('data/train-labels.npy')"
   ]
  },
  {
   "cell_type": "code",
   "execution_count": 7,
   "id": "07eb62dd",
   "metadata": {},
   "outputs": [],
   "source": [
    "def sigmoid(x):\n",
    "    return 1/(np.exp(-x)+1)"
   ]
  },
  {
   "cell_type": "code",
   "execution_count": 8,
   "id": "5411c467",
   "metadata": {},
   "outputs": [],
   "source": [
    "def d_sigmoid(x):\n",
    "    return (np.exp(-x))/((np.exp(-x)+1)**2)"
   ]
  },
  {
   "cell_type": "code",
   "execution_count": 9,
   "id": "547a103d",
   "metadata": {},
   "outputs": [],
   "source": [
    "def softmax(x):\n",
    "    exp_element=np.exp(x-x.max())\n",
    "    return exp_element/np.sum(exp_element,axis=0)"
   ]
  },
  {
   "cell_type": "code",
   "execution_count": 10,
   "id": "d186748c",
   "metadata": {},
   "outputs": [],
   "source": [
    "def d_softmax(x):\n",
    "    exp_element=np.exp(x-x.max())\n",
    "    return exp_element/np.sum(exp_element,axis=0)*(1-exp_element/np.sum(exp_element,axis=0))"
   ]
  },
  {
   "cell_type": "code",
   "execution_count": 11,
   "id": "6c6bb9c0",
   "metadata": {},
   "outputs": [],
   "source": [
    "def init(x,y):\n",
    "    return np.random.uniform(-1.,1.,(x,y))/np.sqrt(x*y)"
   ]
  },
  {
   "cell_type": "code",
   "execution_count": 12,
   "id": "a6bd9a6e",
   "metadata": {},
   "outputs": [],
   "source": [
    "np.random.seed(17)"
   ]
  },
  {
   "cell_type": "code",
   "execution_count": 13,
   "id": "8cbb51b5",
   "metadata": {},
   "outputs": [],
   "source": [
    "l1=init(28*28,128)"
   ]
  },
  {
   "cell_type": "code",
   "execution_count": 14,
   "id": "a6de255a",
   "metadata": {},
   "outputs": [],
   "source": [
    "l2=init(128,10)"
   ]
  },
  {
   "cell_type": "code",
   "execution_count": 15,
   "id": "6014dd94",
   "metadata": {},
   "outputs": [],
   "source": [
    "vmap=apple.jit(\"((λn.[?x=n,.1::float,.0]'irange 0 9 1)')\")"
   ]
  },
  {
   "cell_type": "code",
   "execution_count": 16,
   "id": "f429d617",
   "metadata": {},
   "outputs": [],
   "source": [
    "train_labels_v=vmap(train_labels)"
   ]
  },
  {
   "cell_type": "code",
   "execution_count": 17,
   "id": "e00eccaf-a012-4907-8f29-2ce0ea5008eb",
   "metadata": {},
   "outputs": [],
   "source": [
    "def train_py(x,y,l1,l2):\n",
    "    targets = np.zeros((len(y),10), np.float64)\n",
    "    targets[range(targets.shape[0]),y] = 1\n",
    "    \n",
    "    x_l1p=x.dot(l1)\n",
    "    x_sigmoid=sigmoid(x_l1p)\n",
    "    x_l2p=x_sigmoid.dot(l2)\n",
    "    out=softmax(x_l2p)\n",
    "        \n",
    "    error=2*(out-targets)/out.shape[0]*d_softmax(x_l2p)\n",
    "    update_l2=x_sigmoid.T@error\n",
    "    \n",
    "    error=((l2).dot(error.T)).T*d_sigmoid(x_l1p)\n",
    "    update_l1=x.T@error\n",
    "    \n",
    "    return l1+update_l1,l2+update_l2"
   ]
  },
  {
   "cell_type": "code",
   "execution_count": 18,
   "id": "aa511459-7515-4297-88f4-ba31a0aec732",
   "metadata": {},
   "outputs": [],
   "source": [
    "train=apple.jit('''\n",
    "λx.λtargets.\n",
    "λl1.λl2.\n",
    "  {\n",
    "    xl1p ⟜ [ℯ(_x)]`{0}(x%.l1);\n",
    "    -- fw\n",
    "    xSigmoid ⟜ [1%(1+x)]`{0} xl1p;\n",
    "    xl2p ⟜ xSigmoid%.l2;\n",
    "    a ⟜ {m ⟜ (⋉)/* _1 xl2p; [e:(x-m)]`{0} xl2p};\n",
    "    out ⟜ ⍉((λxs. {s⟜ (+)/xs; (%s)'xs})`{1} (a::M float));\n",
    "    dsoftmax_l2 ← [x*(1-x)]`{0} out;\n",
    "    -- bw\n",
    "    error ⟜ (*)`{0,0} ({n⟜2%(ℝ(𝓉out)); [x*n]`{0} ((-)`{0,0} out targets)}) dsoftmax_l2;\n",
    "    ul2 ← (⍉xSigmoid)%.error;\n",
    "    ul1 ← (⍉x)%.((*)`{0,0} (⍉(l2%.(⍉error))) ([x%(1+x)^2]`{0} xl1p));\n",
    "    ((+)`{0,0} l1 ul1, (+)`{0,0} l2 ul2)\n",
    "  }\n",
    "''')"
   ]
  },
  {
   "cell_type": "code",
   "execution_count": 19,
   "id": "41b48b96-96d4-4f03-8513-5249ee60509f",
   "metadata": {},
   "outputs": [
    {
     "data": {
      "text/plain": [
       "(array([[-1.29637294e-03,  1.93108056e-04, -1.94756914e-03, ...,\n",
       "          2.45069678e-03, -1.96610909e-03,  1.78056911e-03],\n",
       "        [ 9.08670865e-04, -9.21828209e-05,  2.70875527e-03, ...,\n",
       "          2.26569033e-03, -1.03762444e-03, -2.30342918e-03],\n",
       "        [ 6.92568035e-04,  1.01154124e-03,  3.01171972e-03, ...,\n",
       "          2.75982754e-03, -2.97280076e-04,  2.61869556e-03],\n",
       "        ...,\n",
       "        [-2.27470948e-03,  3.89819298e-04, -1.68065782e-03, ...,\n",
       "         -6.10246153e-04, -2.07402878e-03,  1.66304741e-03],\n",
       "        [ 1.04147115e-03, -1.64259621e-03, -2.77502269e-03, ...,\n",
       "         -3.57187593e-04,  2.24773693e-03,  2.60555625e-03],\n",
       "        [-2.76720736e-03, -8.55114367e-04, -1.95089616e-03, ...,\n",
       "         -7.15024703e-04,  1.54345339e-04,  3.68339989e-04]],\n",
       "       shape=(784, 128)),\n",
       " array([[ 0.0213697 , -0.0126215 , -0.0269387 , ...,  0.00998378,\n",
       "         -0.00559339, -0.00853609],\n",
       "        [ 0.00404237, -0.00586295,  0.00138553, ..., -0.01798783,\n",
       "         -0.00901585,  0.01142074],\n",
       "        [-0.00955147, -0.01125794, -0.01553145, ...,  0.0253071 ,\n",
       "          0.01676486, -0.02568836],\n",
       "        ...,\n",
       "        [-0.02610268, -0.00146191, -0.00178995, ..., -0.0002175 ,\n",
       "          0.02244029, -0.00445045],\n",
       "        [ 0.01935792,  0.00667189, -0.01674908, ...,  0.02741458,\n",
       "          0.00161701,  0.02449588],\n",
       "        [-0.00565584,  0.02605229,  0.01157916, ..., -0.02644863,\n",
       "         -0.00707262, -0.02727418]], shape=(128, 10)))"
      ]
     },
     "execution_count": 19,
     "metadata": {},
     "output_type": "execute_result"
    }
   ],
   "source": [
    "train(train_images_v,train_labels_v,l1,l2)"
   ]
  },
  {
   "cell_type": "code",
   "execution_count": 20,
   "id": "3265c9b9",
   "metadata": {
    "scrolled": true
   },
   "outputs": [
    {
     "data": {
      "text/plain": [
       "(array([[-1.29637294e-03,  1.93108056e-04, -1.94756914e-03, ...,\n",
       "          2.45069678e-03, -1.96610909e-03,  1.78056911e-03],\n",
       "        [ 9.08670865e-04, -9.21828209e-05,  2.70875527e-03, ...,\n",
       "          2.26569033e-03, -1.03762444e-03, -2.30342918e-03],\n",
       "        [ 6.92568035e-04,  1.01154124e-03,  3.01171972e-03, ...,\n",
       "          2.75982754e-03, -2.97280076e-04,  2.61869556e-03],\n",
       "        ...,\n",
       "        [-2.27470948e-03,  3.89819298e-04, -1.68065782e-03, ...,\n",
       "         -6.10246153e-04, -2.07402878e-03,  1.66304741e-03],\n",
       "        [ 1.04147115e-03, -1.64259621e-03, -2.77502269e-03, ...,\n",
       "         -3.57187593e-04,  2.24773693e-03,  2.60555625e-03],\n",
       "        [-2.76720736e-03, -8.55114367e-04, -1.95089616e-03, ...,\n",
       "         -7.15024703e-04,  1.54345339e-04,  3.68339989e-04]],\n",
       "       shape=(784, 128)),\n",
       " array([[ 0.0213697 , -0.0126215 , -0.0269387 , ...,  0.00998378,\n",
       "         -0.00559339, -0.00853609],\n",
       "        [ 0.00404237, -0.00586295,  0.00138553, ..., -0.01798783,\n",
       "         -0.00901585,  0.01142074],\n",
       "        [-0.00955147, -0.01125794, -0.01553145, ...,  0.0253071 ,\n",
       "          0.01676486, -0.02568836],\n",
       "        ...,\n",
       "        [-0.02610268, -0.00146191, -0.00178995, ..., -0.0002175 ,\n",
       "          0.02244029, -0.00445045],\n",
       "        [ 0.01935792,  0.00667189, -0.01674908, ...,  0.02741458,\n",
       "          0.00161701,  0.02449588],\n",
       "        [-0.00565584,  0.02605229,  0.01157916, ..., -0.02644863,\n",
       "         -0.00707262, -0.02727418]], shape=(128, 10)))"
      ]
     },
     "execution_count": 20,
     "metadata": {},
     "output_type": "execute_result"
    }
   ],
   "source": [
    "train_py(train_images_v,train_labels,l1,l2)"
   ]
  },
  {
   "cell_type": "code",
   "execution_count": 21,
   "id": "f1ac8454-bb65-42bc-a196-47b21aedf581",
   "metadata": {},
   "outputs": [
    {
     "name": "stdout",
     "output_type": "stream",
     "text": [
      "2.38 s ± 67.7 ms per loop (mean ± std. dev. of 7 runs, 1 loop each)\n"
     ]
    }
   ],
   "source": [
    "%timeit train(train_images_v,train_labels_v,l1,l2)"
   ]
  },
  {
   "cell_type": "code",
   "execution_count": 22,
   "id": "fcc0593a",
   "metadata": {},
   "outputs": [
    {
     "name": "stdout",
     "output_type": "stream",
     "text": [
      "389 ms ± 6.38 ms per loop (mean ± std. dev. of 7 runs, 1 loop each)\n"
     ]
    }
   ],
   "source": [
    "%timeit train_py(train_images_v,train_labels,l1,l2)"
   ]
  }
 ],
 "metadata": {
  "kernelspec": {
   "display_name": "Python 3 (ipykernel)",
   "language": "python",
   "name": "python3"
  },
  "language_info": {
   "codemirror_mode": {
    "name": "ipython",
    "version": 3
   },
   "file_extension": ".py",
   "mimetype": "text/x-python",
   "name": "python",
   "nbconvert_exporter": "python",
   "pygments_lexer": "ipython3",
   "version": "3.13.0"
  }
 },
 "nbformat": 4,
 "nbformat_minor": 5
}

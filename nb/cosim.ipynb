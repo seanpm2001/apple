{
 "cells": [
  {
   "cell_type": "code",
   "execution_count": 1,
   "id": "bbdfbc99-30d2-4df9-9eb1-ff23b0a408bb",
   "metadata": {},
   "outputs": [],
   "source": [
    "import numpy as np"
   ]
  },
  {
   "cell_type": "code",
   "execution_count": 2,
   "id": "c704bdfe-325f-418e-85d4-ace56ec98640",
   "metadata": {},
   "outputs": [],
   "source": [
    "np.random.seed(17)"
   ]
  },
  {
   "cell_type": "code",
   "execution_count": 3,
   "id": "d4d24789-f30c-4071-9fed-a5dbcd4ec1b0",
   "metadata": {},
   "outputs": [],
   "source": [
    "from numpy.linalg import norm\n",
    "def cosim_npy(x,y):\n",
    "    return np.dot(x,y)/(norm(x)*norm(y))"
   ]
  },
  {
   "cell_type": "code",
   "execution_count": 4,
   "id": "281fbd5c-a466-4670-80bd-22e18108ad75",
   "metadata": {},
   "outputs": [],
   "source": [
    "from scipy.spatial import distance\n",
    "def cosim_scipy(x,y):\n",
    "    return 1-distance.cosine(x,y)"
   ]
  },
  {
   "cell_type": "code",
   "execution_count": 5,
   "id": "d105a145-03f3-4b87-9d14-b30f997821da",
   "metadata": {},
   "outputs": [],
   "source": [
    "from sklearn.metrics.pairwise import cosine_similarity\n",
    "def cosim_sk(X,Y):\n",
    "    return cosine_similarity(X.reshape(1,-1),Y.reshape(1,-1))[(0,0)]"
   ]
  },
  {
   "cell_type": "code",
   "execution_count": 6,
   "id": "c29b9e0f-9d23-4408-89ce-05c81ccb98be",
   "metadata": {},
   "outputs": [],
   "source": [
    "import apple\n",
    "cosim=apple.jit(\"λa.λb. a⋅b%(√((+)/((^2)'a))*√((+)/((^2)'b)))\")"
   ]
  },
  {
   "cell_type": "code",
   "execution_count": 7,
   "id": "6becae7e-5749-48e3-9fdd-e7f4d0491587",
   "metadata": {},
   "outputs": [],
   "source": [
    "A=np.random.rand(2000);B=np.random.rand(2000)"
   ]
  },
  {
   "cell_type": "code",
   "execution_count": 8,
   "id": "14213cdd-a5c2-41d8-8a59-a429f31d54e0",
   "metadata": {},
   "outputs": [
    {
     "name": "stdout",
     "output_type": "stream",
     "text": [
      "3.35 μs ± 27.1 ns per loop (mean ± std. dev. of 7 runs, 100,000 loops each)\n"
     ]
    }
   ],
   "source": [
    "%timeit cosim_npy(A,B)"
   ]
  },
  {
   "cell_type": "code",
   "execution_count": 9,
   "id": "b76e2665-1f3b-4af4-964c-93da43772505",
   "metadata": {},
   "outputs": [
    {
     "name": "stdout",
     "output_type": "stream",
     "text": [
      "4.47 μs ± 179 ns per loop (mean ± std. dev. of 7 runs, 100,000 loops each)\n"
     ]
    }
   ],
   "source": [
    "%timeit cosim_scipy(A,B)"
   ]
  },
  {
   "cell_type": "code",
   "execution_count": 10,
   "id": "fc8f0f7a-4dea-42a2-a160-bd15aeadd7d3",
   "metadata": {},
   "outputs": [
    {
     "name": "stdout",
     "output_type": "stream",
     "text": [
      "6.7 μs ± 71.4 ns per loop (mean ± std. dev. of 7 runs, 100,000 loops each)\n"
     ]
    }
   ],
   "source": [
    "%timeit cosim(A,B)"
   ]
  },
  {
   "cell_type": "code",
   "execution_count": 11,
   "id": "a5289cde-162a-49ca-83f7-2d9793cc98a2",
   "metadata": {},
   "outputs": [
    {
     "name": "stdout",
     "output_type": "stream",
     "text": [
      "100 μs ± 1.31 μs per loop (mean ± std. dev. of 7 runs, 10,000 loops each)\n"
     ]
    }
   ],
   "source": [
    "%timeit cosim_sk(A.reshape(1,-1),B.reshape(1,-1))"
   ]
  }
 ],
 "metadata": {
  "kernelspec": {
   "display_name": "Python3.12",
   "language": "python",
   "name": "python312"
  },
  "language_info": {
   "codemirror_mode": {
    "name": "ipython",
    "version": 3
   },
   "file_extension": ".py",
   "mimetype": "text/x-python",
   "name": "python",
   "nbconvert_exporter": "python",
   "pygments_lexer": "ipython3",
   "version": "3.12.7"
  }
 },
 "nbformat": 4,
 "nbformat_minor": 5
}

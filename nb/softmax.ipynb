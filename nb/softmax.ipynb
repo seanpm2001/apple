{
 "cells": [
  {
   "cell_type": "code",
   "execution_count": 1,
   "id": "d5ace698",
   "metadata": {},
   "outputs": [],
   "source": [
    "import numpy as np"
   ]
  },
  {
   "cell_type": "code",
   "execution_count": 2,
   "id": "bc6c46a6",
   "metadata": {},
   "outputs": [],
   "source": [
    "xs=np.array([[0.0,4,2],[0.0,1.0,3]])"
   ]
  },
  {
   "cell_type": "code",
   "execution_count": 3,
   "id": "86b38600",
   "metadata": {},
   "outputs": [],
   "source": [
    "def softmax(x):\n",
    "    exp_element=np.exp(x-x.max())\n",
    "    return exp_element/np.sum(exp_element,axis=0)"
   ]
  },
  {
   "cell_type": "code",
   "execution_count": 4,
   "id": "78e42fc3",
   "metadata": {},
   "outputs": [],
   "source": [
    "xs=xs.astype(np.float64)"
   ]
  },
  {
   "cell_type": "code",
   "execution_count": 5,
   "id": "74ee8354",
   "metadata": {},
   "outputs": [
    {
     "data": {
      "text/plain": [
       "array([[0.5       , 0.95257413, 0.26894142],\n",
       "       [0.5       , 0.04742587, 0.73105858]])"
      ]
     },
     "execution_count": 5,
     "metadata": {},
     "output_type": "execute_result"
    }
   ],
   "source": [
    "softmax(xs)"
   ]
  },
  {
   "cell_type": "code",
   "execution_count": 6,
   "id": "dae3570a",
   "metadata": {},
   "outputs": [],
   "source": [
    "import apple"
   ]
  },
  {
   "cell_type": "code",
   "execution_count": 7,
   "id": "0f4b0985",
   "metadata": {},
   "outputs": [],
   "source": [
    "ssoftmax=apple.jit('''\n",
    "λxs.\n",
    "  { m ⟜ (⋉)/* _1 xs; a ⟜ [e:(x-m)]`{0} xs\n",
    "  ; sum ← [(+)/x]\n",
    "  ; n ⟜ sum`{1} (a::M float)\n",
    "  ; |:(([(%x)'y]`{0,1} n a))\n",
    "  }\n",
    "''')"
   ]
  },
  {
   "cell_type": "code",
   "execution_count": 8,
   "id": "64862cc9",
   "metadata": {
    "scrolled": true
   },
   "outputs": [
    {
     "data": {
      "text/plain": [
       "array([[0.5       , 0.95257413, 0.26894142],\n",
       "       [0.5       , 0.04742587, 0.73105858]])"
      ]
     },
     "execution_count": 8,
     "metadata": {},
     "output_type": "execute_result"
    }
   ],
   "source": [
    "apple.f(ssoftmax,xs)"
   ]
  }
 ],
 "metadata": {
  "kernelspec": {
   "display_name": "Python3.12",
   "language": "python",
   "name": "python312"
  },
  "language_info": {
   "codemirror_mode": {
    "name": "ipython",
    "version": 3
   },
   "file_extension": ".py",
   "mimetype": "text/x-python",
   "name": "python",
   "nbconvert_exporter": "python",
   "pygments_lexer": "ipython3",
   "version": "3.12.4"
  }
 },
 "nbformat": 4,
 "nbformat_minor": 5
}
